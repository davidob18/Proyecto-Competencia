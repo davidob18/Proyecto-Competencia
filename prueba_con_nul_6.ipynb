{
 "cells": [
  {
   "cell_type": "code",
   "execution_count": 1,
   "id": "beb9a0c0-eeb8-4c45-8063-25f7952703a6",
   "metadata": {
    "tags": []
   },
   "outputs": [],
   "source": [
    "import pandas as pd\n",
    "import numpy as np\n",
    "import matplotlib.pyplot as plt"
   ]
  },
  {
   "cell_type": "markdown",
   "id": "30df950f-1f5b-4563-814f-6d0343f77a97",
   "metadata": {},
   "source": [
    "# CARGA DE DATOS"
   ]
  },
  {
   "cell_type": "code",
   "execution_count": 2,
   "id": "346062cf-fcae-4e8a-a2cc-4069e10d1e24",
   "metadata": {},
   "outputs": [],
   "source": [
    "df_train = pd.read_csv('z_train.csv')\n",
    "df_test = pd.read_csv('z_test.csv')"
   ]
  },
  {
   "cell_type": "code",
   "execution_count": 3,
   "id": "fe5f851f-d7d9-444a-86ee-d9fa4aca0341",
   "metadata": {
    "tags": []
   },
   "outputs": [],
   "source": [
    "df_train_copy = df_train.copy()"
   ]
  },
  {
   "cell_type": "code",
   "execution_count": 4,
   "id": "08221f13-d000-49d0-8700-c5895bbb2319",
   "metadata": {
    "tags": []
   },
   "outputs": [],
   "source": [
    "df_test_copy = df_test.copy()"
   ]
  },
  {
   "cell_type": "code",
   "execution_count": 5,
   "id": "ade4d22f-8e9d-4d41-a053-884bd93dcb12",
   "metadata": {
    "tags": []
   },
   "outputs": [
    {
     "data": {
      "text/plain": [
       "enrollee_id                0.000000\n",
       "city                       0.000000\n",
       "city_development_index     0.000000\n",
       "gender                    23.669102\n",
       "relevent_experience        0.000000\n",
       "enrolled_university        2.192067\n",
       "education_level            2.374739\n",
       "major_discipline          15.031315\n",
       "experience                 0.391441\n",
       "company_size              31.419624\n",
       "company_type              32.593946\n",
       "last_new_job               2.192067\n",
       "training_hours             0.000000\n",
       "dtype: float64"
      ]
     },
     "execution_count": 5,
     "metadata": {},
     "output_type": "execute_result"
    }
   ],
   "source": [
    "(df_test_copy.isna().sum() / df_test_copy.shape[0])*100"
   ]
  },
  {
   "cell_type": "code",
   "execution_count": 6,
   "id": "6b7a953f-9049-4d00-847f-ac208c497900",
   "metadata": {},
   "outputs": [
    {
     "data": {
      "text/plain": [
       "enrollee_id                0.000000\n",
       "city                       0.000000\n",
       "city_development_index     0.000000\n",
       "gender                    23.496020\n",
       "relevent_experience        0.000000\n",
       "enrolled_university        1.970508\n",
       "education_level            2.407673\n",
       "major_discipline          14.596111\n",
       "experience                 0.326243\n",
       "company_size              30.888686\n",
       "company_type              31.913089\n",
       "last_new_job               2.211927\n",
       "training_hours             0.000000\n",
       "target                     0.000000\n",
       "dtype: float64"
      ]
     },
     "execution_count": 6,
     "metadata": {},
     "output_type": "execute_result"
    }
   ],
   "source": [
    "(df_train_copy.isna().sum() / df_train_copy.shape[0])*100"
   ]
  },
  {
   "cell_type": "markdown",
   "id": "49f32ad1-10d3-41f9-99c4-cc9619a64a88",
   "metadata": {},
   "source": [
    "# ELIMINANOS LAS COLUMNAS QUE NO USAREMOS "
   ]
  },
  {
   "cell_type": "code",
   "execution_count": 7,
   "id": "0daff521-ad66-4e29-8f1b-fda66796616a",
   "metadata": {
    "tags": []
   },
   "outputs": [],
   "source": [
    "df_train_copy.drop(['enrollee_id', 'city', 'enrolled_university','major_discipline','gender'  ], axis=1 , inplace = True) #, 'company_type'"
   ]
  },
  {
   "cell_type": "code",
   "execution_count": 8,
   "id": "f5f9eed5-aa2b-47dc-8bf3-f09c05208e16",
   "metadata": {},
   "outputs": [],
   "source": [
    "df_test_copy.drop(['enrollee_id', 'city', 'enrolled_university','major_discipline','gender'  ], axis=1 , inplace = True)"
   ]
  },
  {
   "cell_type": "code",
   "execution_count": 9,
   "id": "3186a6a9-0678-45e3-828b-25b8108696a0",
   "metadata": {
    "tags": []
   },
   "outputs": [
    {
     "data": {
      "text/plain": [
       "(15326, 9)"
      ]
     },
     "execution_count": 9,
     "metadata": {},
     "output_type": "execute_result"
    }
   ],
   "source": [
    "df_train_copy.shape"
   ]
  },
  {
   "cell_type": "code",
   "execution_count": 10,
   "id": "4528b5a6-bb2b-4be0-abbc-0bb9cd41d205",
   "metadata": {},
   "outputs": [
    {
     "data": {
      "text/plain": [
       "(3832, 8)"
      ]
     },
     "execution_count": 10,
     "metadata": {},
     "output_type": "execute_result"
    }
   ],
   "source": [
    "df_test_copy.shape"
   ]
  },
  {
   "cell_type": "code",
   "execution_count": 11,
   "id": "886a5c8d-d0c2-4b9c-a1bd-2639b0605708",
   "metadata": {},
   "outputs": [],
   "source": [
    "#df_train_copy.dropna(inplace=True)"
   ]
  },
  {
   "cell_type": "code",
   "execution_count": 12,
   "id": "f6837541-3e85-4bce-a98c-dd75049ad736",
   "metadata": {
    "tags": []
   },
   "outputs": [],
   "source": [
    "#df_train_copy.shape"
   ]
  },
  {
   "cell_type": "markdown",
   "id": "92b424ce-70a1-4bb2-9a57-06edced60177",
   "metadata": {
    "tags": []
   },
   "source": [
    "# COMENZAMOS A LIMPIAR LAS COLUMNAS Y CONVERTIR DE STRING A NUM"
   ]
  },
  {
   "cell_type": "markdown",
   "id": "1915c69d-3387-4f78-ad4a-a2512aafcd5c",
   "metadata": {},
   "source": [
    "# EMPEZAMOS CON LA COLUMNA EXPERIENCIA, TANTO DATA TRAIN COMO TEST"
   ]
  },
  {
   "cell_type": "code",
   "execution_count": 13,
   "id": "dbd94042-206a-4b48-bac7-e0c2b40dd4b6",
   "metadata": {
    "tags": []
   },
   "outputs": [],
   "source": [
    "def cambiar_mayor(num):\n",
    "    num= str(num)\n",
    "    #print(type(num))\n",
    "    if '>' in num:\n",
    "        num = num.replace('>','')\n",
    "        #num = float(num)\n",
    "        return num\n",
    "    \n",
    "    if '<' in num:\n",
    "        num = num.replace('<1','0')\n",
    "        #num = float(num)\n",
    "        return num\n",
    "    \n",
    "    if 'nan' in num:\n",
    "        num = num.replace('nan','')\n",
    "        #num = float(num)\n",
    "        return num\n",
    "    \n",
    "    else:\n",
    "        #num = float(num)\n",
    "        return num"
   ]
  },
  {
   "cell_type": "code",
   "execution_count": null,
   "id": "9cf514f5-920d-402b-a040-13795d4b4f8a",
   "metadata": {},
   "outputs": [],
   "source": []
  },
  {
   "cell_type": "code",
   "execution_count": 14,
   "id": "2ca12ef4-3dbd-45a3-96cd-1385f9dad30a",
   "metadata": {},
   "outputs": [],
   "source": [
    "df_train_copy.experience = df_train_copy.experience.apply(cambiar_mayor)"
   ]
  },
  {
   "cell_type": "code",
   "execution_count": 15,
   "id": "c8d1ee65-024e-4b56-a8f0-53783021ad6c",
   "metadata": {
    "tags": []
   },
   "outputs": [],
   "source": [
    "df_train_copy['experience'] = pd.to_numeric(df_train_copy.experience)"
   ]
  },
  {
   "cell_type": "code",
   "execution_count": 16,
   "id": "94f7c7d3-ef7a-478d-8b3d-62f61382581d",
   "metadata": {},
   "outputs": [],
   "source": [
    "#DATA TEST"
   ]
  },
  {
   "cell_type": "code",
   "execution_count": 17,
   "id": "26a18398-9cb3-49fa-9a27-265e6119662e",
   "metadata": {},
   "outputs": [],
   "source": [
    "df_test_copy.experience = df_test_copy.experience.apply(cambiar_mayor)"
   ]
  },
  {
   "cell_type": "code",
   "execution_count": 18,
   "id": "c7cfd3ed-a085-41ca-bafa-9e1376183dbc",
   "metadata": {},
   "outputs": [],
   "source": [
    "df_test_copy['experience'] = pd.to_numeric(df_test_copy.experience)"
   ]
  },
  {
   "cell_type": "code",
   "execution_count": null,
   "id": "6f4740e4-2841-42dc-9eb6-2edafe2f00b5",
   "metadata": {},
   "outputs": [],
   "source": []
  },
  {
   "cell_type": "markdown",
   "id": "92b05dc6-6fcc-4148-bc92-f0f005112ab7",
   "metadata": {},
   "source": [
    "# AHORA CAMBIAMOS LA COLUMNA LAST NEW JOB"
   ]
  },
  {
   "cell_type": "code",
   "execution_count": 19,
   "id": "4247d135-5b6e-47f6-82f9-2aaa05623154",
   "metadata": {},
   "outputs": [],
   "source": [
    "def cambiar_num(num):\n",
    "    num= str(num)\n",
    "    #print(type(num))\n",
    "    if '>4' in num:\n",
    "        num = num.replace('>4','5')\n",
    "        #num = float(num)\n",
    "        return num\n",
    "    \n",
    "    if 'never' in num:\n",
    "        num = num.replace('never','0')\n",
    "        #num = float(num)\n",
    "        return num\n",
    "    \n",
    "    if 'nan' in num:\n",
    "        num = num.replace('nan','')\n",
    "        #num = float(num)\n",
    "        return num\n",
    "    \n",
    "    else:\n",
    "        #num = float(num)\n",
    "        return num"
   ]
  },
  {
   "cell_type": "code",
   "execution_count": 20,
   "id": "60307db1-93c8-48e9-8457-62c3152b8b13",
   "metadata": {},
   "outputs": [],
   "source": [
    "df_train_copy.last_new_job = df_train_copy.last_new_job.apply(cambiar_num)"
   ]
  },
  {
   "cell_type": "code",
   "execution_count": 21,
   "id": "5ff960ff-284e-493a-a621-4628f30733f2",
   "metadata": {},
   "outputs": [],
   "source": [
    "df_train_copy['last_new_job'] = pd.to_numeric(df_train_copy.last_new_job)"
   ]
  },
  {
   "cell_type": "code",
   "execution_count": 22,
   "id": "914b3c45-7495-4ddd-a614-84d6c4df7098",
   "metadata": {
    "tags": []
   },
   "outputs": [],
   "source": [
    "# DATA TEST"
   ]
  },
  {
   "cell_type": "code",
   "execution_count": 23,
   "id": "4dcc53c9-61fb-4e45-91be-4ab0b0b12615",
   "metadata": {},
   "outputs": [],
   "source": [
    "df_test_copy.last_new_job = df_test_copy.last_new_job.apply(cambiar_num)"
   ]
  },
  {
   "cell_type": "code",
   "execution_count": 24,
   "id": "6b48da37-f911-47d6-9e02-682153a4609e",
   "metadata": {},
   "outputs": [],
   "source": [
    "df_test_copy['last_new_job'] = pd.to_numeric(df_test_copy.last_new_job)"
   ]
  },
  {
   "cell_type": "code",
   "execution_count": null,
   "id": "fdf96224-016f-4bff-ab02-8bebd4334052",
   "metadata": {},
   "outputs": [],
   "source": []
  },
  {
   "cell_type": "code",
   "execution_count": null,
   "id": "877c21ca-f16f-4b06-a3be-5dbbab899bdf",
   "metadata": {},
   "outputs": [],
   "source": []
  },
  {
   "cell_type": "code",
   "execution_count": null,
   "id": "1b39c1f4-db17-4dfc-bf3b-5ae27a5ebee6",
   "metadata": {},
   "outputs": [],
   "source": []
  },
  {
   "cell_type": "code",
   "execution_count": 25,
   "id": "2f74df47-5949-460b-a813-434d2e7c3b75",
   "metadata": {
    "tags": []
   },
   "outputs": [
    {
     "name": "stdout",
     "output_type": "stream",
     "text": [
      "<class 'pandas.core.frame.DataFrame'>\n",
      "RangeIndex: 15326 entries, 0 to 15325\n",
      "Data columns (total 9 columns):\n",
      " #   Column                  Non-Null Count  Dtype  \n",
      "---  ------                  --------------  -----  \n",
      " 0   city_development_index  15326 non-null  float64\n",
      " 1   relevent_experience     15326 non-null  object \n",
      " 2   education_level         14957 non-null  object \n",
      " 3   experience              15276 non-null  float64\n",
      " 4   company_size            10592 non-null  object \n",
      " 5   company_type            10435 non-null  object \n",
      " 6   last_new_job            14987 non-null  float64\n",
      " 7   training_hours          15326 non-null  int64  \n",
      " 8   target                  15326 non-null  float64\n",
      "dtypes: float64(4), int64(1), object(4)\n",
      "memory usage: 1.1+ MB\n"
     ]
    }
   ],
   "source": [
    "df_train_copy.info()"
   ]
  },
  {
   "cell_type": "code",
   "execution_count": 26,
   "id": "7fbb72b8-6916-470a-82b8-5693a4e0d9f3",
   "metadata": {},
   "outputs": [],
   "source": [
    "# CAMBIAMOS COLUMNA TAMAÑO DE EMPRESA"
   ]
  },
  {
   "cell_type": "markdown",
   "id": "abd27ca1-72a3-41c8-b7ac-8ddd4ca30e62",
   "metadata": {},
   "source": [
    "df_train_copy.company_size.value_counts()"
   ]
  },
  {
   "cell_type": "code",
   "execution_count": 27,
   "id": "1b839954-e2ca-4ca2-8756-70f10eaaae1b",
   "metadata": {},
   "outputs": [],
   "source": [
    "def cambiar_cantidad(num):\n",
    "    num= str(num)\n",
    "    #print(type(num))\n",
    "    if '50-99' in num:\n",
    "        num = num.replace('50-99','chica')\n",
    "        #num = float(num)\n",
    "        return num\n",
    "    \n",
    "    if '100-500' in num:\n",
    "        num = num.replace('100-500','mediana')\n",
    "        #num = float(num)\n",
    "        return num\n",
    "    \n",
    "    if '10000+' in num:\n",
    "        num = num.replace('10000+','muy_grande')\n",
    "        #num = float(num)\n",
    "        return num\n",
    "    \n",
    "    if '10/49' in num:\n",
    "        num = num.replace('10/49','chica')\n",
    "        #num = float(num)\n",
    "        return num\n",
    "                          \n",
    "    if '1000-4999' in num:\n",
    "        num = num.replace('1000-4999','grande')\n",
    "        #num = float(num)\n",
    "        return num\n",
    "    \n",
    "    if '<10' in num:\n",
    "        num = num.replace('<10','chica')\n",
    "        #num = float(num)\n",
    "        return num\n",
    "    \n",
    "    if '500-999' in num:\n",
    "        num = num.replace('500-999','grande')\n",
    "        #num = float(num)\n",
    "        return num\n",
    "    \n",
    "    if '5000-9999' in num:\n",
    "        num = num.replace('5000-9999','muy_grande')\n",
    "        #num = float(num)\n",
    "        return num\n",
    "    \n",
    "    if 'nan' in num:\n",
    "        num = num.replace('nan', 'Missing')\n",
    "        #num = float(num)\n",
    "        return num\n",
    "    \n",
    "    else:\n",
    "        #num = float(num)\n",
    "        return num"
   ]
  },
  {
   "cell_type": "code",
   "execution_count": 28,
   "id": "03d8a69b-e330-41f9-887e-0809ca2c4f4e",
   "metadata": {
    "tags": []
   },
   "outputs": [],
   "source": [
    "df_train_copy['company_size'] = df_train_copy.company_size.apply(cambiar_cantidad) "
   ]
  },
  {
   "cell_type": "code",
   "execution_count": 29,
   "id": "d14ce30a-2a92-4774-bf0c-19ef3d4049eb",
   "metadata": {
    "tags": []
   },
   "outputs": [
    {
     "data": {
      "text/plain": [
       "Missing       4734\n",
       "chica         4664\n",
       "muy_grande    2096\n",
       "mediana       2059\n",
       "grande        1773\n",
       "Name: company_size, dtype: int64"
      ]
     },
     "execution_count": 29,
     "metadata": {},
     "output_type": "execute_result"
    }
   ],
   "source": [
    "df_train_copy.company_size.value_counts()"
   ]
  },
  {
   "cell_type": "code",
   "execution_count": 30,
   "id": "d5b27f77-7141-404d-bcde-2e062c0f476a",
   "metadata": {},
   "outputs": [
    {
     "data": {
      "text/plain": [
       "0"
      ]
     },
     "execution_count": 30,
     "metadata": {},
     "output_type": "execute_result"
    }
   ],
   "source": [
    "df_train_copy.company_size.isnull().sum()"
   ]
  },
  {
   "cell_type": "code",
   "execution_count": 31,
   "id": "ba60f913-3eff-4301-84e5-2af8b591aec7",
   "metadata": {},
   "outputs": [
    {
     "data": {
      "text/plain": [
       "''"
      ]
     },
     "execution_count": 31,
     "metadata": {},
     "output_type": "execute_result"
    }
   ],
   "source": [
    "str()"
   ]
  },
  {
   "cell_type": "code",
   "execution_count": null,
   "id": "90987a5e-35dd-4577-b9ce-fd405f35473f",
   "metadata": {},
   "outputs": [],
   "source": []
  },
  {
   "cell_type": "code",
   "execution_count": 32,
   "id": "8980a010-5779-4ac3-b5f7-cff4cb089c29",
   "metadata": {},
   "outputs": [],
   "source": [
    "# DATA TEST"
   ]
  },
  {
   "cell_type": "code",
   "execution_count": 33,
   "id": "d2d086be-d042-4ede-914d-a30e1455d9ad",
   "metadata": {},
   "outputs": [],
   "source": [
    "df_test_copy['company_size'] = df_test_copy.company_size.apply(cambiar_cantidad)"
   ]
  },
  {
   "cell_type": "code",
   "execution_count": null,
   "id": "c3cc3de4-e3c1-4f64-963f-a96852b3413d",
   "metadata": {},
   "outputs": [],
   "source": []
  },
  {
   "cell_type": "markdown",
   "id": "f55ed510-786d-4827-a615-0852755a80c8",
   "metadata": {},
   "source": [
    "# VERIFICAMOS QUE TODOS LOS DATOS ESTEN UNIFORMES Y CAMBIADOS TANTO PARA TEST COMO TRAIN"
   ]
  },
  {
   "cell_type": "code",
   "execution_count": 34,
   "id": "bc44e17f-6141-469a-b5b9-4371c52cce52",
   "metadata": {
    "tags": []
   },
   "outputs": [
    {
     "data": {
      "text/html": [
       "<div>\n",
       "<style scoped>\n",
       "    .dataframe tbody tr th:only-of-type {\n",
       "        vertical-align: middle;\n",
       "    }\n",
       "\n",
       "    .dataframe tbody tr th {\n",
       "        vertical-align: top;\n",
       "    }\n",
       "\n",
       "    .dataframe thead th {\n",
       "        text-align: right;\n",
       "    }\n",
       "</style>\n",
       "<table border=\"1\" class=\"dataframe\">\n",
       "  <thead>\n",
       "    <tr style=\"text-align: right;\">\n",
       "      <th></th>\n",
       "      <th>city_development_index</th>\n",
       "      <th>relevent_experience</th>\n",
       "      <th>education_level</th>\n",
       "      <th>experience</th>\n",
       "      <th>company_size</th>\n",
       "      <th>company_type</th>\n",
       "      <th>last_new_job</th>\n",
       "      <th>training_hours</th>\n",
       "      <th>target</th>\n",
       "    </tr>\n",
       "  </thead>\n",
       "  <tbody>\n",
       "    <tr>\n",
       "      <th>0</th>\n",
       "      <td>0.92</td>\n",
       "      <td>Has relevent experience</td>\n",
       "      <td>Graduate</td>\n",
       "      <td>20.0</td>\n",
       "      <td>Missing</td>\n",
       "      <td>NaN</td>\n",
       "      <td>1.0</td>\n",
       "      <td>36</td>\n",
       "      <td>1.0</td>\n",
       "    </tr>\n",
       "  </tbody>\n",
       "</table>\n",
       "</div>"
      ],
      "text/plain": [
       "   city_development_index      relevent_experience education_level  \\\n",
       "0                    0.92  Has relevent experience        Graduate   \n",
       "\n",
       "   experience company_size company_type  last_new_job  training_hours  target  \n",
       "0        20.0      Missing          NaN           1.0              36     1.0  "
      ]
     },
     "execution_count": 34,
     "metadata": {},
     "output_type": "execute_result"
    }
   ],
   "source": [
    "df_train_copy.head(1)"
   ]
  },
  {
   "cell_type": "code",
   "execution_count": 35,
   "id": "3d76f35e-4cfd-4b6a-9828-dff58a76a4fa",
   "metadata": {
    "tags": []
   },
   "outputs": [
    {
     "data": {
      "text/html": [
       "<div>\n",
       "<style scoped>\n",
       "    .dataframe tbody tr th:only-of-type {\n",
       "        vertical-align: middle;\n",
       "    }\n",
       "\n",
       "    .dataframe tbody tr th {\n",
       "        vertical-align: top;\n",
       "    }\n",
       "\n",
       "    .dataframe thead th {\n",
       "        text-align: right;\n",
       "    }\n",
       "</style>\n",
       "<table border=\"1\" class=\"dataframe\">\n",
       "  <thead>\n",
       "    <tr style=\"text-align: right;\">\n",
       "      <th></th>\n",
       "      <th>city_development_index</th>\n",
       "      <th>relevent_experience</th>\n",
       "      <th>education_level</th>\n",
       "      <th>experience</th>\n",
       "      <th>company_size</th>\n",
       "      <th>company_type</th>\n",
       "      <th>last_new_job</th>\n",
       "      <th>training_hours</th>\n",
       "    </tr>\n",
       "  </thead>\n",
       "  <tbody>\n",
       "    <tr>\n",
       "      <th>0</th>\n",
       "      <td>0.92</td>\n",
       "      <td>No relevent experience</td>\n",
       "      <td>Graduate</td>\n",
       "      <td>5.0</td>\n",
       "      <td>Missing</td>\n",
       "      <td>NaN</td>\n",
       "      <td>1.0</td>\n",
       "      <td>78</td>\n",
       "    </tr>\n",
       "  </tbody>\n",
       "</table>\n",
       "</div>"
      ],
      "text/plain": [
       "   city_development_index     relevent_experience education_level  experience  \\\n",
       "0                    0.92  No relevent experience        Graduate         5.0   \n",
       "\n",
       "  company_size company_type  last_new_job  training_hours  \n",
       "0      Missing          NaN           1.0              78  "
      ]
     },
     "execution_count": 35,
     "metadata": {},
     "output_type": "execute_result"
    }
   ],
   "source": [
    "df_test_copy.head(1)"
   ]
  },
  {
   "cell_type": "code",
   "execution_count": 36,
   "id": "1eec282a-0695-4170-aec5-e013bf1b3110",
   "metadata": {},
   "outputs": [
    {
     "data": {
      "text/plain": [
       "(3832, 8)"
      ]
     },
     "execution_count": 36,
     "metadata": {},
     "output_type": "execute_result"
    }
   ],
   "source": [
    "df_test_copy.shape"
   ]
  },
  {
   "cell_type": "code",
   "execution_count": 37,
   "id": "b9ca29ab-7888-44a0-90cd-5ae8917f50a8",
   "metadata": {},
   "outputs": [
    {
     "name": "stdout",
     "output_type": "stream",
     "text": [
      "<class 'pandas.core.frame.DataFrame'>\n",
      "RangeIndex: 15326 entries, 0 to 15325\n",
      "Data columns (total 9 columns):\n",
      " #   Column                  Non-Null Count  Dtype  \n",
      "---  ------                  --------------  -----  \n",
      " 0   city_development_index  15326 non-null  float64\n",
      " 1   relevent_experience     15326 non-null  object \n",
      " 2   education_level         14957 non-null  object \n",
      " 3   experience              15276 non-null  float64\n",
      " 4   company_size            15326 non-null  object \n",
      " 5   company_type            10435 non-null  object \n",
      " 6   last_new_job            14987 non-null  float64\n",
      " 7   training_hours          15326 non-null  int64  \n",
      " 8   target                  15326 non-null  float64\n",
      "dtypes: float64(4), int64(1), object(4)\n",
      "memory usage: 1.1+ MB\n"
     ]
    }
   ],
   "source": [
    "df_train_copy.info()"
   ]
  },
  {
   "cell_type": "code",
   "execution_count": 38,
   "id": "4276ca5b-7a0b-438f-a203-743d8341c205",
   "metadata": {},
   "outputs": [
    {
     "name": "stdout",
     "output_type": "stream",
     "text": [
      "<class 'pandas.core.frame.DataFrame'>\n",
      "RangeIndex: 3832 entries, 0 to 3831\n",
      "Data columns (total 8 columns):\n",
      " #   Column                  Non-Null Count  Dtype  \n",
      "---  ------                  --------------  -----  \n",
      " 0   city_development_index  3832 non-null   float64\n",
      " 1   relevent_experience     3832 non-null   object \n",
      " 2   education_level         3741 non-null   object \n",
      " 3   experience              3817 non-null   float64\n",
      " 4   company_size            3832 non-null   object \n",
      " 5   company_type            2583 non-null   object \n",
      " 6   last_new_job            3748 non-null   float64\n",
      " 7   training_hours          3832 non-null   int64  \n",
      "dtypes: float64(3), int64(1), object(4)\n",
      "memory usage: 239.6+ KB\n"
     ]
    }
   ],
   "source": [
    "df_test_copy.info()"
   ]
  },
  {
   "cell_type": "code",
   "execution_count": null,
   "id": "b72238c6-46bd-450b-bfab-9de67b5bcae7",
   "metadata": {},
   "outputs": [],
   "source": []
  },
  {
   "cell_type": "code",
   "execution_count": null,
   "id": "2fdf5dc0-911c-4f62-a2a4-451e38da8903",
   "metadata": {},
   "outputs": [],
   "source": []
  },
  {
   "cell_type": "markdown",
   "id": "cd3ed565-bf87-40e5-a927-f85f07bc0014",
   "metadata": {},
   "source": [
    "# CARGAMOS LAS LIBRERIAS PARA TRABAJAR "
   ]
  },
  {
   "cell_type": "code",
   "execution_count": null,
   "id": "db71494b-20fe-471d-a23b-1fe5d503ae0f",
   "metadata": {},
   "outputs": [],
   "source": []
  },
  {
   "cell_type": "code",
   "execution_count": 39,
   "id": "4c6dde6c-6d47-4693-a89d-ccd2a9567d05",
   "metadata": {},
   "outputs": [],
   "source": [
    "from sklearn.pipeline import Pipeline\n",
    "from sklearn.linear_model import LinearRegression, Ridge, Lasso\n",
    "from sklearn.preprocessing import RobustScaler, OrdinalEncoder\n",
    "from sklearn.model_selection import train_test_split\n",
    "from feature_engine import imputation as imp\n",
    "from feature_engine import encoding as enc\n",
    "from feature_engine.wrappers import SklearnTransformerWrapper\n",
    "from feature_engine.encoding import OneHotEncoder\n",
    "from feature_engine import imputation as mdi\n",
    "\n",
    "\n",
    "from sklearn.preprocessing import StandardScaler\n",
    "from sklearn.preprocessing import RobustScaler\n",
    "\n",
    "from feature_engine.wrappers import SklearnTransformerWrapper\n",
    "\n",
    "\n",
    "from sklearn.linear_model import LogisticRegression\n",
    "from sklearn import metrics\n",
    "\n",
    "import sklearn.metrics"
   ]
  },
  {
   "cell_type": "code",
   "execution_count": 40,
   "id": "877809d3-24e3-4193-991f-e6dd89a8a2a0",
   "metadata": {
    "tags": []
   },
   "outputs": [
    {
     "data": {
      "text/plain": [
       "('enrollee_id',\n",
       " 'city',\n",
       " 'enrollee_id',\n",
       " 'city',\n",
       " 'enrolled_university',\n",
       " 'major_discipline',\n",
       " 'gender')"
      ]
     },
     "execution_count": 40,
     "metadata": {},
     "output_type": "execute_result"
    }
   ],
   "source": [
    "'enrollee_id', 'city' , 'enrollee_id', 'city', 'enrolled_university','major_discipline','gender'"
   ]
  },
  {
   "cell_type": "code",
   "execution_count": null,
   "id": "75a7efbe-a4f0-49f4-9d5f-6255c1258c33",
   "metadata": {},
   "outputs": [],
   "source": []
  },
  {
   "cell_type": "markdown",
   "id": "732fbaf4-258b-4838-be03-b9cb72841e2e",
   "metadata": {},
   "source": [
    "# CREAMOS NUESTRA MUESTRAS PARA EL ENTRENAMIENTO "
   ]
  },
  {
   "cell_type": "code",
   "execution_count": 41,
   "id": "3f0e3ad2-c611-4cfb-a804-5dc100112582",
   "metadata": {
    "tags": []
   },
   "outputs": [],
   "source": [
    "X_train, X_test, y_train, y_test = train_test_split(df_train_copy.drop(columns = ['target']), df_train_copy.target, test_size = 0.2, random_state = 2102)"
   ]
  },
  {
   "cell_type": "markdown",
   "id": "e25cd75e-42d7-41ef-92a3-391584ef8c15",
   "metadata": {},
   "source": [
    "# CREAMOS NUESTRA PIPELINE Y ENTRENAMOS CON X_TRAIN Y Y_TRAIN"
   ]
  },
  {
   "cell_type": "code",
   "execution_count": 42,
   "id": "eb7521e3-00fd-41c5-8e25-2cd526f80640",
   "metadata": {
    "tags": []
   },
   "outputs": [
    {
     "name": "stdout",
     "output_type": "stream",
     "text": [
      "[Pipeline] ... (step 1 of 4) Processing mean_imputation, total=   0.0s\n",
      "[Pipeline] ... (step 2 of 4) Processing mode_imputation, total=   0.0s\n",
      "[Pipeline] ........... (step 3 of 4) Processing escalar, total=   0.0s\n",
      "[Pipeline] ........... (step 4 of 4) Processing one_hot, total=   0.0s\n"
     ]
    },
    {
     "data": {
      "text/plain": [
       "Pipeline(steps=[('mean_imputation',\n",
       "                 MeanMedianImputer(imputation_method='mean',\n",
       "                                   variables=['experience', 'last_new_job',\n",
       "                                              'city_development_index',\n",
       "                                              'training_hours'])),\n",
       "                ('mode_imputation',\n",
       "                 CategoricalImputer(variables=['education_level',\n",
       "                                               'relevent_experience',\n",
       "                                               'company_size',\n",
       "                                               'company_type'])),\n",
       "                ('escalar',\n",
       "                 SklearnTransformerWrapper(transformer=StandardScaler(),\n",
       "                                           variables=['experience',\n",
       "                                                      'last_new_job',\n",
       "                                                      'training_hours'])),\n",
       "                ('one_hot',\n",
       "                 OneHotEncoder(variables=['education_level',\n",
       "                                          'relevent_experience', 'company_size',\n",
       "                                          'company_type']))],\n",
       "         verbose=True)"
      ]
     },
     "execution_count": 42,
     "metadata": {},
     "output_type": "execute_result"
    }
   ],
   "source": [
    "pipeline_competencia = Pipeline([('mean_imputation', mdi.MeanMedianImputer(imputation_method = 'mean',\n",
    "                                                                             variables = ['experience', 'last_new_job','city_development_index','training_hours'])),\n",
    "                                   ('mode_imputation', mdi.CategoricalImputer(imputation_method = 'missing',\n",
    "                                    variables = [ 'education_level','relevent_experience','company_size', 'company_type'])),\n",
    "                                   ('escalar', SklearnTransformerWrapper(StandardScaler(), variables=['experience', 'last_new_job','training_hours'])),\n",
    "                                   ('one_hot', enc.OneHotEncoder(variables = [ 'education_level','relevent_experience','company_size', 'company_type'])),\n",
    "                                   #('modelo', LogisticRegression())\n",
    "                                   ], verbose = True)\n",
    "pipeline_competencia.fit(X_train, y_train)"
   ]
  },
  {
   "cell_type": "code",
   "execution_count": null,
   "id": "cf57238c-4f95-46c8-a8dd-5b928866a3b2",
   "metadata": {},
   "outputs": [],
   "source": []
  },
  {
   "cell_type": "code",
   "execution_count": 43,
   "id": "8a5c1420-5f42-4239-9bf7-bc52a7f93bb2",
   "metadata": {},
   "outputs": [],
   "source": [
    "# USAMOS PARA TRANFORMAR LA TABLA DE DATOS DE TRAIN Y TEST"
   ]
  },
  {
   "cell_type": "code",
   "execution_count": 44,
   "id": "e73fdf31-d408-45ef-940e-84d56eef9751",
   "metadata": {},
   "outputs": [],
   "source": [
    "data = pipeline_competencia.transform(X_train)"
   ]
  },
  {
   "cell_type": "code",
   "execution_count": 45,
   "id": "da478c8a-4888-49dc-b094-f3c6cc5fe28a",
   "metadata": {},
   "outputs": [
    {
     "data": {
      "text/html": [
       "<div>\n",
       "<style scoped>\n",
       "    .dataframe tbody tr th:only-of-type {\n",
       "        vertical-align: middle;\n",
       "    }\n",
       "\n",
       "    .dataframe tbody tr th {\n",
       "        vertical-align: top;\n",
       "    }\n",
       "\n",
       "    .dataframe thead th {\n",
       "        text-align: right;\n",
       "    }\n",
       "</style>\n",
       "<table border=\"1\" class=\"dataframe\">\n",
       "  <thead>\n",
       "    <tr style=\"text-align: right;\">\n",
       "      <th></th>\n",
       "      <th>city_development_index</th>\n",
       "      <th>experience</th>\n",
       "      <th>last_new_job</th>\n",
       "      <th>training_hours</th>\n",
       "      <th>education_level_Graduate</th>\n",
       "      <th>education_level_Masters</th>\n",
       "      <th>education_level_Phd</th>\n",
       "      <th>education_level_High School</th>\n",
       "      <th>education_level_Missing</th>\n",
       "      <th>education_level_Primary School</th>\n",
       "      <th>...</th>\n",
       "      <th>company_size_Missing</th>\n",
       "      <th>company_size_grande</th>\n",
       "      <th>company_size_muy_grande</th>\n",
       "      <th>company_type_Pvt Ltd</th>\n",
       "      <th>company_type_Missing</th>\n",
       "      <th>company_type_Public Sector</th>\n",
       "      <th>company_type_Early Stage Startup</th>\n",
       "      <th>company_type_NGO</th>\n",
       "      <th>company_type_Funded Startup</th>\n",
       "      <th>company_type_Other</th>\n",
       "    </tr>\n",
       "  </thead>\n",
       "  <tbody>\n",
       "    <tr>\n",
       "      <th>8102</th>\n",
       "      <td>0.913</td>\n",
       "      <td>-0.458591</td>\n",
       "      <td>-0.607308</td>\n",
       "      <td>-0.785127</td>\n",
       "      <td>1</td>\n",
       "      <td>0</td>\n",
       "      <td>0</td>\n",
       "      <td>0</td>\n",
       "      <td>0</td>\n",
       "      <td>0</td>\n",
       "      <td>...</td>\n",
       "      <td>0</td>\n",
       "      <td>0</td>\n",
       "      <td>0</td>\n",
       "      <td>1</td>\n",
       "      <td>0</td>\n",
       "      <td>0</td>\n",
       "      <td>0</td>\n",
       "      <td>0</td>\n",
       "      <td>0</td>\n",
       "      <td>0</td>\n",
       "    </tr>\n",
       "  </tbody>\n",
       "</table>\n",
       "<p>1 rows × 24 columns</p>\n",
       "</div>"
      ],
      "text/plain": [
       "      city_development_index  experience  last_new_job  training_hours  \\\n",
       "8102                   0.913   -0.458591     -0.607308       -0.785127   \n",
       "\n",
       "      education_level_Graduate  education_level_Masters  education_level_Phd  \\\n",
       "8102                         1                        0                    0   \n",
       "\n",
       "      education_level_High School  education_level_Missing  \\\n",
       "8102                            0                        0   \n",
       "\n",
       "      education_level_Primary School  ...  company_size_Missing  \\\n",
       "8102                               0  ...                     0   \n",
       "\n",
       "      company_size_grande  company_size_muy_grande  company_type_Pvt Ltd  \\\n",
       "8102                    0                        0                     1   \n",
       "\n",
       "      company_type_Missing  company_type_Public Sector  \\\n",
       "8102                     0                           0   \n",
       "\n",
       "      company_type_Early Stage Startup  company_type_NGO  \\\n",
       "8102                                 0                 0   \n",
       "\n",
       "      company_type_Funded Startup  company_type_Other  \n",
       "8102                            0                   0  \n",
       "\n",
       "[1 rows x 24 columns]"
      ]
     },
     "execution_count": 45,
     "metadata": {},
     "output_type": "execute_result"
    }
   ],
   "source": [
    "data.head(1)"
   ]
  },
  {
   "cell_type": "code",
   "execution_count": null,
   "id": "d3c07cc1-aaef-47e5-b3d8-0ab8bd4a6530",
   "metadata": {
    "tags": []
   },
   "outputs": [],
   "source": []
  },
  {
   "cell_type": "code",
   "execution_count": 46,
   "id": "94bc1106-eded-4acd-b793-611b0cb93b80",
   "metadata": {},
   "outputs": [],
   "source": [
    "data_test_final = pipeline_competencia.transform(df_test_copy)"
   ]
  },
  {
   "cell_type": "code",
   "execution_count": 47,
   "id": "d0bfd7a3-3fa0-46f0-b157-9729f72de44f",
   "metadata": {},
   "outputs": [
    {
     "data": {
      "text/html": [
       "<div>\n",
       "<style scoped>\n",
       "    .dataframe tbody tr th:only-of-type {\n",
       "        vertical-align: middle;\n",
       "    }\n",
       "\n",
       "    .dataframe tbody tr th {\n",
       "        vertical-align: top;\n",
       "    }\n",
       "\n",
       "    .dataframe thead th {\n",
       "        text-align: right;\n",
       "    }\n",
       "</style>\n",
       "<table border=\"1\" class=\"dataframe\">\n",
       "  <thead>\n",
       "    <tr style=\"text-align: right;\">\n",
       "      <th></th>\n",
       "      <th>city_development_index</th>\n",
       "      <th>experience</th>\n",
       "      <th>last_new_job</th>\n",
       "      <th>training_hours</th>\n",
       "      <th>education_level_Graduate</th>\n",
       "      <th>education_level_Masters</th>\n",
       "      <th>education_level_Phd</th>\n",
       "      <th>education_level_High School</th>\n",
       "      <th>education_level_Missing</th>\n",
       "      <th>education_level_Primary School</th>\n",
       "      <th>...</th>\n",
       "      <th>company_size_Missing</th>\n",
       "      <th>company_size_grande</th>\n",
       "      <th>company_size_muy_grande</th>\n",
       "      <th>company_type_Pvt Ltd</th>\n",
       "      <th>company_type_Missing</th>\n",
       "      <th>company_type_Public Sector</th>\n",
       "      <th>company_type_Early Stage Startup</th>\n",
       "      <th>company_type_NGO</th>\n",
       "      <th>company_type_Funded Startup</th>\n",
       "      <th>company_type_Other</th>\n",
       "    </tr>\n",
       "  </thead>\n",
       "  <tbody>\n",
       "    <tr>\n",
       "      <th>0</th>\n",
       "      <td>0.92</td>\n",
       "      <td>-0.766097</td>\n",
       "      <td>-0.607308</td>\n",
       "      <td>0.20978</td>\n",
       "      <td>1</td>\n",
       "      <td>0</td>\n",
       "      <td>0</td>\n",
       "      <td>0</td>\n",
       "      <td>0</td>\n",
       "      <td>0</td>\n",
       "      <td>...</td>\n",
       "      <td>1</td>\n",
       "      <td>0</td>\n",
       "      <td>0</td>\n",
       "      <td>0</td>\n",
       "      <td>1</td>\n",
       "      <td>0</td>\n",
       "      <td>0</td>\n",
       "      <td>0</td>\n",
       "      <td>0</td>\n",
       "      <td>0</td>\n",
       "    </tr>\n",
       "  </tbody>\n",
       "</table>\n",
       "<p>1 rows × 24 columns</p>\n",
       "</div>"
      ],
      "text/plain": [
       "   city_development_index  experience  last_new_job  training_hours  \\\n",
       "0                    0.92   -0.766097     -0.607308         0.20978   \n",
       "\n",
       "   education_level_Graduate  education_level_Masters  education_level_Phd  \\\n",
       "0                         1                        0                    0   \n",
       "\n",
       "   education_level_High School  education_level_Missing  \\\n",
       "0                            0                        0   \n",
       "\n",
       "   education_level_Primary School  ...  company_size_Missing  \\\n",
       "0                               0  ...                     1   \n",
       "\n",
       "   company_size_grande  company_size_muy_grande  company_type_Pvt Ltd  \\\n",
       "0                    0                        0                     0   \n",
       "\n",
       "   company_type_Missing  company_type_Public Sector  \\\n",
       "0                     1                           0   \n",
       "\n",
       "   company_type_Early Stage Startup  company_type_NGO  \\\n",
       "0                                 0                 0   \n",
       "\n",
       "   company_type_Funded Startup  company_type_Other  \n",
       "0                            0                   0  \n",
       "\n",
       "[1 rows x 24 columns]"
      ]
     },
     "execution_count": 47,
     "metadata": {},
     "output_type": "execute_result"
    }
   ],
   "source": [
    "data_test_final.head(1)"
   ]
  },
  {
   "cell_type": "code",
   "execution_count": 48,
   "id": "f983f2e6-42e4-48a7-a884-832b46829b9b",
   "metadata": {},
   "outputs": [
    {
     "data": {
      "text/plain": [
       "Index(['city_development_index', 'experience', 'last_new_job',\n",
       "       'training_hours', 'education_level_Graduate', 'education_level_Masters',\n",
       "       'education_level_Phd', 'education_level_High School',\n",
       "       'education_level_Missing', 'education_level_Primary School',\n",
       "       'relevent_experience_Has relevent experience',\n",
       "       'relevent_experience_No relevent experience', 'company_size_mediana',\n",
       "       'company_size_chica', 'company_size_Missing', 'company_size_grande',\n",
       "       'company_size_muy_grande', 'company_type_Pvt Ltd',\n",
       "       'company_type_Missing', 'company_type_Public Sector',\n",
       "       'company_type_Early Stage Startup', 'company_type_NGO',\n",
       "       'company_type_Funded Startup', 'company_type_Other'],\n",
       "      dtype='object')"
      ]
     },
     "execution_count": 48,
     "metadata": {},
     "output_type": "execute_result"
    }
   ],
   "source": [
    "data.columns"
   ]
  },
  {
   "cell_type": "code",
   "execution_count": null,
   "id": "f18ff53c-7082-46a2-8132-9581d0cd4dca",
   "metadata": {},
   "outputs": [],
   "source": []
  },
  {
   "cell_type": "code",
   "execution_count": null,
   "id": "814c0973-3e16-4278-8267-7d05431df4c0",
   "metadata": {},
   "outputs": [],
   "source": []
  },
  {
   "cell_type": "markdown",
   "id": "830d240a-4f26-494d-b2c7-aaa254fade9e",
   "metadata": {},
   "source": [
    "# CARGAMOS DATOS PARA UNA ANALISI DE ARBOL"
   ]
  },
  {
   "cell_type": "code",
   "execution_count": 115,
   "id": "0cc893ca-7258-4fbd-93a8-2497d6094443",
   "metadata": {},
   "outputs": [],
   "source": [
    "from sklearn.tree import DecisionTreeClassifier\n",
    "import graphviz\n",
    "from sklearn import tree\n",
    "from sklearn.neighbors import KNeighborsClassifier\n",
    "from sklearn.model_selection import GridSearchCV"
   ]
  },
  {
   "cell_type": "code",
   "execution_count": 627,
   "id": "a73c827a-4b1a-4c7c-9b4a-cf830ac42b97",
   "metadata": {},
   "outputs": [
    {
     "name": "stdout",
     "output_type": "stream",
     "text": [
      "Requirement already satisfied: graphviz in c:\\users\\sistemas\\anaconda3\\lib\\site-packages (0.20.1)\n"
     ]
    }
   ],
   "source": [
    "!pip install graphviz"
   ]
  },
  {
   "cell_type": "code",
   "execution_count": null,
   "id": "7508c0d9-28a4-4ad3-ac61-7d3c07c05c5b",
   "metadata": {},
   "outputs": [],
   "source": []
  },
  {
   "cell_type": "code",
   "execution_count": null,
   "id": "71c6d5b9-b58f-434c-8f99-c8d5ee3fd1f9",
   "metadata": {},
   "outputs": [],
   "source": []
  },
  {
   "cell_type": "code",
   "execution_count": 88,
   "id": "01bf14b5-066c-435e-a1ba-96e01451aacc",
   "metadata": {},
   "outputs": [],
   "source": [
    "dec_tree = DecisionTreeClassifier()\n",
    "params = {'splitter':['random', 'best'], 'max_depth' : [8, 9, 10, None], 'random_state':[2102]}\n",
    "cvtree = GridSearchCV(dec_tree, params).fit(data, y_train)"
   ]
  },
  {
   "cell_type": "code",
   "execution_count": 89,
   "id": "12c81349-0ce5-436f-89a4-7118ddbffbd7",
   "metadata": {
    "tags": []
   },
   "outputs": [
    {
     "data": {
      "text/plain": [
       "DecisionTreeClassifier(max_depth=8, random_state=2102)"
      ]
     },
     "execution_count": 89,
     "metadata": {},
     "output_type": "execute_result"
    }
   ],
   "source": [
    "cvtree.best_estimator_"
   ]
  },
  {
   "cell_type": "code",
   "execution_count": 227,
   "id": "a1f2a7bb-ac6f-4397-ab7d-4c966699d40c",
   "metadata": {
    "tags": []
   },
   "outputs": [
    {
     "data": {
      "text/plain": [
       "DecisionTreeClassifier(max_depth=8, random_state=2102)"
      ]
     },
     "execution_count": 227,
     "metadata": {},
     "output_type": "execute_result"
    }
   ],
   "source": [
    "cvtree.best_estimator_"
   ]
  },
  {
   "cell_type": "code",
   "execution_count": 189,
   "id": "fed291fa-ead1-4184-8cdb-a7022e3e68a6",
   "metadata": {},
   "outputs": [
    {
     "data": {
      "text/plain": [
       "DecisionTreeClassifier(max_depth=6, random_state=2102)"
      ]
     },
     "execution_count": 189,
     "metadata": {},
     "output_type": "execute_result"
    }
   ],
   "source": [
    "cvtree.best_estimator_"
   ]
  },
  {
   "cell_type": "code",
   "execution_count": 49,
   "id": "9e71a6a6-5474-4417-8576-4d6b76020839",
   "metadata": {},
   "outputs": [],
   "source": [
    "tree_classifier_full = DecisionTreeClassifier(max_depth=8 ,random_state=2102 ).fit(data, y_train)"
   ]
  },
  {
   "cell_type": "code",
   "execution_count": null,
   "id": "78d6d0ea-37da-42a5-a1b7-2a65f52dcde6",
   "metadata": {},
   "outputs": [],
   "source": []
  },
  {
   "cell_type": "code",
   "execution_count": 50,
   "id": "ca6e2159-415e-4d12-a8d8-95d4b02c2d18",
   "metadata": {
    "tags": []
   },
   "outputs": [
    {
     "data": {
      "text/plain": [
       "array([5.13182270e-01, 6.18747164e-02, 3.39332972e-02, 6.38312197e-02,\n",
       "       7.68664836e-02, 1.32354148e-02, 1.43272208e-03, 7.35897674e-04,\n",
       "       8.52610272e-04, 4.31607700e-04, 0.00000000e+00, 6.33926226e-03,\n",
       "       3.46056930e-03, 4.98974366e-03, 1.86139100e-01, 2.39433227e-03,\n",
       "       1.89946163e-03, 1.50757425e-02, 4.58684433e-03, 5.55737886e-03,\n",
       "       2.15225388e-03, 0.00000000e+00, 0.00000000e+00, 1.02907183e-03])"
      ]
     },
     "execution_count": 50,
     "metadata": {},
     "output_type": "execute_result"
    }
   ],
   "source": [
    "tree_classifier_full.feature_importances_"
   ]
  },
  {
   "cell_type": "code",
   "execution_count": 51,
   "id": "3ada29bd-69e9-43c1-8a20-312f80b97891",
   "metadata": {},
   "outputs": [
    {
     "data": {
      "text/plain": [
       "array([5.13182270e-01, 6.18747164e-02, 3.39332972e-02, 6.38312197e-02,\n",
       "       7.68664836e-02, 1.32354148e-02, 1.43272208e-03, 7.35897674e-04,\n",
       "       8.52610272e-04, 4.31607700e-04, 0.00000000e+00, 6.33926226e-03,\n",
       "       3.46056930e-03, 4.98974366e-03, 1.86139100e-01, 2.39433227e-03,\n",
       "       1.89946163e-03, 1.50757425e-02, 4.58684433e-03, 5.55737886e-03,\n",
       "       2.15225388e-03, 0.00000000e+00, 0.00000000e+00, 1.02907183e-03])"
      ]
     },
     "execution_count": 51,
     "metadata": {},
     "output_type": "execute_result"
    }
   ],
   "source": [
    "tree_classifier_full.feature_importances_"
   ]
  },
  {
   "cell_type": "code",
   "execution_count": 52,
   "id": "5ba5eeb9-0c3c-40e1-b518-c24f7af46573",
   "metadata": {},
   "outputs": [
    {
     "data": {
      "text/plain": [
       "array(['city_development_index', 'experience', 'last_new_job',\n",
       "       'training_hours', 'education_level_Graduate',\n",
       "       'education_level_Masters', 'education_level_Phd',\n",
       "       'education_level_High School', 'education_level_Missing',\n",
       "       'education_level_Primary School',\n",
       "       'relevent_experience_Has relevent experience',\n",
       "       'relevent_experience_No relevent experience',\n",
       "       'company_size_mediana', 'company_size_chica',\n",
       "       'company_size_Missing', 'company_size_grande',\n",
       "       'company_size_muy_grande', 'company_type_Pvt Ltd',\n",
       "       'company_type_Missing', 'company_type_Public Sector',\n",
       "       'company_type_Early Stage Startup', 'company_type_NGO',\n",
       "       'company_type_Funded Startup', 'company_type_Other'], dtype=object)"
      ]
     },
     "execution_count": 52,
     "metadata": {},
     "output_type": "execute_result"
    }
   ],
   "source": [
    "tree_classifier_full.feature_names_in_"
   ]
  },
  {
   "cell_type": "code",
   "execution_count": 53,
   "id": "46e312c3-0bd6-4687-8a40-005d2013ea64",
   "metadata": {
    "tags": []
   },
   "outputs": [],
   "source": [
    "datos_impor = pd.DataFrame([tree_classifier_full.feature_importances_], columns = tree_classifier_full.feature_names_in_)"
   ]
  },
  {
   "cell_type": "markdown",
   "id": "6f02674e-b7f5-40dc-9a7f-55a2a62040c7",
   "metadata": {},
   "source": [
    "# DESPUES DE VARIAS PRUEBAS LA MEJOR PREDICCION SE IMPRIME CON LOS VALORES DE PESO "
   ]
  },
  {
   "cell_type": "code",
   "execution_count": 54,
   "id": "9f665900-cc7a-42e0-ab8d-49cd82a4ce8a",
   "metadata": {
    "tags": []
   },
   "outputs": [
    {
     "data": {
      "text/html": [
       "<div>\n",
       "<style scoped>\n",
       "    .dataframe tbody tr th:only-of-type {\n",
       "        vertical-align: middle;\n",
       "    }\n",
       "\n",
       "    .dataframe tbody tr th {\n",
       "        vertical-align: top;\n",
       "    }\n",
       "\n",
       "    .dataframe thead th {\n",
       "        text-align: right;\n",
       "    }\n",
       "</style>\n",
       "<table border=\"1\" class=\"dataframe\">\n",
       "  <thead>\n",
       "    <tr style=\"text-align: right;\">\n",
       "      <th></th>\n",
       "      <th>0</th>\n",
       "    </tr>\n",
       "  </thead>\n",
       "  <tbody>\n",
       "    <tr>\n",
       "      <th>city_development_index</th>\n",
       "      <td>0.513182</td>\n",
       "    </tr>\n",
       "    <tr>\n",
       "      <th>experience</th>\n",
       "      <td>0.061875</td>\n",
       "    </tr>\n",
       "    <tr>\n",
       "      <th>last_new_job</th>\n",
       "      <td>0.033933</td>\n",
       "    </tr>\n",
       "    <tr>\n",
       "      <th>training_hours</th>\n",
       "      <td>0.063831</td>\n",
       "    </tr>\n",
       "    <tr>\n",
       "      <th>education_level_Graduate</th>\n",
       "      <td>0.076866</td>\n",
       "    </tr>\n",
       "    <tr>\n",
       "      <th>education_level_Masters</th>\n",
       "      <td>0.013235</td>\n",
       "    </tr>\n",
       "    <tr>\n",
       "      <th>education_level_Phd</th>\n",
       "      <td>0.001433</td>\n",
       "    </tr>\n",
       "    <tr>\n",
       "      <th>education_level_High School</th>\n",
       "      <td>0.000736</td>\n",
       "    </tr>\n",
       "    <tr>\n",
       "      <th>education_level_Missing</th>\n",
       "      <td>0.000853</td>\n",
       "    </tr>\n",
       "    <tr>\n",
       "      <th>education_level_Primary School</th>\n",
       "      <td>0.000432</td>\n",
       "    </tr>\n",
       "    <tr>\n",
       "      <th>relevent_experience_Has relevent experience</th>\n",
       "      <td>0.000000</td>\n",
       "    </tr>\n",
       "    <tr>\n",
       "      <th>relevent_experience_No relevent experience</th>\n",
       "      <td>0.006339</td>\n",
       "    </tr>\n",
       "    <tr>\n",
       "      <th>company_size_mediana</th>\n",
       "      <td>0.003461</td>\n",
       "    </tr>\n",
       "    <tr>\n",
       "      <th>company_size_chica</th>\n",
       "      <td>0.004990</td>\n",
       "    </tr>\n",
       "    <tr>\n",
       "      <th>company_size_Missing</th>\n",
       "      <td>0.186139</td>\n",
       "    </tr>\n",
       "    <tr>\n",
       "      <th>company_size_grande</th>\n",
       "      <td>0.002394</td>\n",
       "    </tr>\n",
       "    <tr>\n",
       "      <th>company_size_muy_grande</th>\n",
       "      <td>0.001899</td>\n",
       "    </tr>\n",
       "    <tr>\n",
       "      <th>company_type_Pvt Ltd</th>\n",
       "      <td>0.015076</td>\n",
       "    </tr>\n",
       "    <tr>\n",
       "      <th>company_type_Missing</th>\n",
       "      <td>0.004587</td>\n",
       "    </tr>\n",
       "    <tr>\n",
       "      <th>company_type_Public Sector</th>\n",
       "      <td>0.005557</td>\n",
       "    </tr>\n",
       "    <tr>\n",
       "      <th>company_type_Early Stage Startup</th>\n",
       "      <td>0.002152</td>\n",
       "    </tr>\n",
       "    <tr>\n",
       "      <th>company_type_NGO</th>\n",
       "      <td>0.000000</td>\n",
       "    </tr>\n",
       "    <tr>\n",
       "      <th>company_type_Funded Startup</th>\n",
       "      <td>0.000000</td>\n",
       "    </tr>\n",
       "    <tr>\n",
       "      <th>company_type_Other</th>\n",
       "      <td>0.001029</td>\n",
       "    </tr>\n",
       "  </tbody>\n",
       "</table>\n",
       "</div>"
      ],
      "text/plain": [
       "                                                    0\n",
       "city_development_index                       0.513182\n",
       "experience                                   0.061875\n",
       "last_new_job                                 0.033933\n",
       "training_hours                               0.063831\n",
       "education_level_Graduate                     0.076866\n",
       "education_level_Masters                      0.013235\n",
       "education_level_Phd                          0.001433\n",
       "education_level_High School                  0.000736\n",
       "education_level_Missing                      0.000853\n",
       "education_level_Primary School               0.000432\n",
       "relevent_experience_Has relevent experience  0.000000\n",
       "relevent_experience_No relevent experience   0.006339\n",
       "company_size_mediana                         0.003461\n",
       "company_size_chica                           0.004990\n",
       "company_size_Missing                         0.186139\n",
       "company_size_grande                          0.002394\n",
       "company_size_muy_grande                      0.001899\n",
       "company_type_Pvt Ltd                         0.015076\n",
       "company_type_Missing                         0.004587\n",
       "company_type_Public Sector                   0.005557\n",
       "company_type_Early Stage Startup             0.002152\n",
       "company_type_NGO                             0.000000\n",
       "company_type_Funded Startup                  0.000000\n",
       "company_type_Other                           0.001029"
      ]
     },
     "execution_count": 54,
     "metadata": {},
     "output_type": "execute_result"
    }
   ],
   "source": [
    "datos_impor.T.head(31)"
   ]
  },
  {
   "cell_type": "code",
   "execution_count": null,
   "id": "5335ef31-e9a9-4911-b94f-c35232b01de3",
   "metadata": {},
   "outputs": [],
   "source": []
  },
  {
   "cell_type": "code",
   "execution_count": 55,
   "id": "fcfdd5cf-b580-42fc-a15b-234a55dfdc5e",
   "metadata": {
    "tags": []
   },
   "outputs": [],
   "source": [
    "predictions = tree_classifier_full.predict(data)"
   ]
  },
  {
   "cell_type": "code",
   "execution_count": 640,
   "id": "96ad00da-9eb4-4c97-b562-ea1a78f856a5",
   "metadata": {},
   "outputs": [
    {
     "data": {
      "text/plain": [
       "0.8204730831973899"
      ]
     },
     "execution_count": 640,
     "metadata": {},
     "output_type": "execute_result"
    }
   ],
   "source": [
    "metrics.accuracy_score(y_train, predictions) # tree_classifier_full = DecisionTreeClassifier(max_depth=8 ,random_state=2102 ).fit(data, y_train)    /// CON TIPO DE EMPRESA MEDIAN Y MISSIN"
   ]
  },
  {
   "cell_type": "code",
   "execution_count": 196,
   "id": "23e72f1d-147a-4a80-ae7d-fadcab46135c",
   "metadata": {
    "tags": []
   },
   "outputs": [
    {
     "data": {
      "text/plain": [
       "0.8019575856443719"
      ]
     },
     "execution_count": 196,
     "metadata": {},
     "output_type": "execute_result"
    }
   ],
   "source": [
    "metrics.accuracy_score(y_train, predictions) # PREDICCION CON (max_depth=6 ,random_state=2102 ) GANADORA MEJOR PREDICCION"
   ]
  },
  {
   "cell_type": "code",
   "execution_count": 192,
   "id": "6af98ef7-1ea8-4edb-8911-56ec779691e8",
   "metadata": {},
   "outputs": [
    {
     "data": {
      "text/plain": [
       "0.8204730831973899"
      ]
     },
     "execution_count": 192,
     "metadata": {},
     "output_type": "execute_result"
    }
   ],
   "source": [
    "metrics.accuracy_score(y_train, predictions) # tree_classifier_full = DecisionTreeClassifier(max_depth=8 ,random_state=2102 ).fit(data, y_train)    /// CON TIPO DE EMPRESA MEAN Y MISSIN"
   ]
  },
  {
   "cell_type": "code",
   "execution_count": 56,
   "id": "bc3b86cf-71ab-4acd-ae38-a3ed27d79395",
   "metadata": {
    "tags": []
   },
   "outputs": [
    {
     "data": {
      "text/plain": [
       "0.8182707993474715"
      ]
     },
     "execution_count": 56,
     "metadata": {},
     "output_type": "execute_result"
    }
   ],
   "source": [
    "metrics.accuracy_score(y_train, predictions) # "
   ]
  },
  {
   "cell_type": "code",
   "execution_count": null,
   "id": "2ea81098-8eb2-4a98-beb8-c24d8f386f07",
   "metadata": {},
   "outputs": [],
   "source": []
  },
  {
   "cell_type": "code",
   "execution_count": 56,
   "id": "4dee74ef-c1e6-4871-aa29-3315ee2405e8",
   "metadata": {},
   "outputs": [],
   "source": [
    "data_test = pipeline_competencia.transform(X_test)"
   ]
  },
  {
   "cell_type": "code",
   "execution_count": 60,
   "id": "da3e0e61-8374-4c36-b54a-ddc759165c42",
   "metadata": {
    "tags": []
   },
   "outputs": [
    {
     "data": {
      "text/plain": [
       "array([0., 0., 0., ..., 0., 0., 0.])"
      ]
     },
     "execution_count": 60,
     "metadata": {},
     "output_type": "execute_result"
    }
   ],
   "source": [
    "predictions_test = tree_classifier_full.predict(data_test)\n",
    "predictions_test"
   ]
  },
  {
   "cell_type": "code",
   "execution_count": 90,
   "id": "b13e6c36-3a8a-4409-8565-12927f591a02",
   "metadata": {},
   "outputs": [
    {
     "data": {
      "text/plain": [
       "0.7840834964122635"
      ]
     },
     "execution_count": 90,
     "metadata": {},
     "output_type": "execute_result"
    }
   ],
   "source": [
    "metrics.accuracy_score(y_test, predictions_test) # # tree_classifier_full = DecisionTreeClassifier(max_depth=8 ,random_state=2102 ).fit(data, y_train)    /// CON TIPO DE EMPRESA MEDIAN Y MISSIN"
   ]
  },
  {
   "cell_type": "code",
   "execution_count": 199,
   "id": "a81e9b7a-9079-4173-9ab2-b8332ba24943",
   "metadata": {
    "tags": []
   },
   "outputs": [
    {
     "data": {
      "text/plain": [
       "0.7840834964122635"
      ]
     },
     "execution_count": 199,
     "metadata": {},
     "output_type": "execute_result"
    }
   ],
   "source": [
    "metrics.accuracy_score(y_test, predictions_test) # PREDICCION CON (max_depth=6 ,random_state=2102 ) GANADORA MEJOR PREDICCION"
   ]
  },
  {
   "cell_type": "code",
   "execution_count": 643,
   "id": "f5f31e4f-6aae-4070-b737-fb45376d15c0",
   "metadata": {},
   "outputs": [
    {
     "data": {
      "text/plain": [
       "0.7850619699934769"
      ]
     },
     "execution_count": 643,
     "metadata": {},
     "output_type": "execute_result"
    }
   ],
   "source": [
    "metrics.accuracy_score(y_test, predictions_test) # tree_classifier_full = DecisionTreeClassifier(max_depth=8 ,random_state=2102 ).fit(data, y_train)    /// CON TIPO DE EMPRESA MEAN Y MISSIN"
   ]
  },
  {
   "cell_type": "code",
   "execution_count": 61,
   "id": "b9b83ae4-46c5-4f1d-bd29-ed340c8845a2",
   "metadata": {},
   "outputs": [
    {
     "data": {
      "text/plain": [
       "0.7821265492498369"
      ]
     },
     "execution_count": 61,
     "metadata": {},
     "output_type": "execute_result"
    }
   ],
   "source": [
    "metrics.accuracy_score(y_test, predictions_test) # "
   ]
  },
  {
   "cell_type": "code",
   "execution_count": null,
   "id": "d96fb336-57e4-4de2-96be-094433e756c1",
   "metadata": {},
   "outputs": [],
   "source": []
  },
  {
   "cell_type": "markdown",
   "id": "81da3988-9f83-4490-a087-c16bd6c840f4",
   "metadata": {},
   "source": [
    "# CON LA NUEVA PREDICCION SE REALIZA LA BASE DE DATOS PARA CAGAR"
   ]
  },
  {
   "cell_type": "code",
   "execution_count": 210,
   "id": "8557acec-5668-4b7d-a066-c25ac1662bc7",
   "metadata": {},
   "outputs": [
    {
     "data": {
      "text/plain": [
       "array([[0.38992042, 0.61007958],\n",
       "       [0.90237467, 0.09762533],\n",
       "       [0.49155405, 0.50844595],\n",
       "       ...,\n",
       "       [0.86437247, 0.13562753],\n",
       "       [0.85496183, 0.14503817],\n",
       "       [0.92008639, 0.07991361]])"
      ]
     },
     "execution_count": 210,
     "metadata": {},
     "output_type": "execute_result"
    }
   ],
   "source": [
    "predictions_test_proba = tree_classifier_full.predict_proba(data_test_final)\n",
    "predictions_test_proba"
   ]
  },
  {
   "cell_type": "code",
   "execution_count": null,
   "id": "24d7d58b-97f2-440b-8f44-4fdaf36c0c05",
   "metadata": {},
   "outputs": [],
   "source": []
  },
  {
   "cell_type": "code",
   "execution_count": 211,
   "id": "a198e35d-7dc7-48e2-baf3-ced0434c6b15",
   "metadata": {},
   "outputs": [],
   "source": [
    "list_test = []\n",
    "for x in predictions_test_proba:\n",
    "    #print(x[1])\n",
    "    list_test.append(x[1])"
   ]
  },
  {
   "cell_type": "code",
   "execution_count": 212,
   "id": "fe2c217a-c80d-4121-bd0c-b24746e18ad0",
   "metadata": {
    "tags": []
   },
   "outputs": [
    {
     "data": {
      "text/html": [
       "<div>\n",
       "<style scoped>\n",
       "    .dataframe tbody tr th:only-of-type {\n",
       "        vertical-align: middle;\n",
       "    }\n",
       "\n",
       "    .dataframe tbody tr th {\n",
       "        vertical-align: top;\n",
       "    }\n",
       "\n",
       "    .dataframe thead th {\n",
       "        text-align: right;\n",
       "    }\n",
       "</style>\n",
       "<table border=\"1\" class=\"dataframe\">\n",
       "  <thead>\n",
       "    <tr style=\"text-align: right;\">\n",
       "      <th></th>\n",
       "      <th>0</th>\n",
       "    </tr>\n",
       "  </thead>\n",
       "  <tbody>\n",
       "    <tr>\n",
       "      <th>0</th>\n",
       "      <td>0.610080</td>\n",
       "    </tr>\n",
       "    <tr>\n",
       "      <th>1</th>\n",
       "      <td>0.097625</td>\n",
       "    </tr>\n",
       "    <tr>\n",
       "      <th>2</th>\n",
       "      <td>0.508446</td>\n",
       "    </tr>\n",
       "    <tr>\n",
       "      <th>3</th>\n",
       "      <td>0.061907</td>\n",
       "    </tr>\n",
       "    <tr>\n",
       "      <th>4</th>\n",
       "      <td>0.079914</td>\n",
       "    </tr>\n",
       "    <tr>\n",
       "      <th>...</th>\n",
       "      <td>...</td>\n",
       "    </tr>\n",
       "    <tr>\n",
       "      <th>3827</th>\n",
       "      <td>0.508446</td>\n",
       "    </tr>\n",
       "    <tr>\n",
       "      <th>3828</th>\n",
       "      <td>0.061907</td>\n",
       "    </tr>\n",
       "    <tr>\n",
       "      <th>3829</th>\n",
       "      <td>0.135628</td>\n",
       "    </tr>\n",
       "    <tr>\n",
       "      <th>3830</th>\n",
       "      <td>0.145038</td>\n",
       "    </tr>\n",
       "    <tr>\n",
       "      <th>3831</th>\n",
       "      <td>0.079914</td>\n",
       "    </tr>\n",
       "  </tbody>\n",
       "</table>\n",
       "<p>3832 rows × 1 columns</p>\n",
       "</div>"
      ],
      "text/plain": [
       "             0\n",
       "0     0.610080\n",
       "1     0.097625\n",
       "2     0.508446\n",
       "3     0.061907\n",
       "4     0.079914\n",
       "...        ...\n",
       "3827  0.508446\n",
       "3828  0.061907\n",
       "3829  0.135628\n",
       "3830  0.145038\n",
       "3831  0.079914\n",
       "\n",
       "[3832 rows x 1 columns]"
      ]
     },
     "execution_count": 212,
     "metadata": {},
     "output_type": "execute_result"
    }
   ],
   "source": [
    "pd.DataFrame(list_test)"
   ]
  },
  {
   "cell_type": "code",
   "execution_count": 134,
   "id": "98467a5b-1cec-4ebc-a146-24b4cd4b8173",
   "metadata": {
    "tags": []
   },
   "outputs": [],
   "source": [
    "df_respuesta = df_test.copy()"
   ]
  },
  {
   "cell_type": "code",
   "execution_count": 135,
   "id": "9efde40b-3edc-4b42-a420-54e0d9686882",
   "metadata": {},
   "outputs": [],
   "source": [
    "df_respuesta.drop([ 'city', 'city_development_index', 'gender',\n",
    "       'relevent_experience', 'enrolled_university', 'education_level',\n",
    "       'major_discipline', 'experience', 'company_size', 'company_type',\n",
    "       'last_new_job', 'training_hours'], axis=1 , inplace = True)"
   ]
  },
  {
   "cell_type": "code",
   "execution_count": 136,
   "id": "0445a451-dbc0-4c7b-9b20-e3577958b2a7",
   "metadata": {},
   "outputs": [],
   "source": [
    "df_respuesta['target'] = pd.DataFrame(list_test)"
   ]
  },
  {
   "cell_type": "code",
   "execution_count": null,
   "id": "80c92e93-9e83-42a7-8951-dca0aef08cda",
   "metadata": {
    "tags": []
   },
   "outputs": [],
   "source": []
  },
  {
   "cell_type": "code",
   "execution_count": 216,
   "id": "40a000c5-b611-409e-a3ae-31db2d8750c7",
   "metadata": {
    "tags": []
   },
   "outputs": [
    {
     "data": {
      "text/html": [
       "<div>\n",
       "<style scoped>\n",
       "    .dataframe tbody tr th:only-of-type {\n",
       "        vertical-align: middle;\n",
       "    }\n",
       "\n",
       "    .dataframe tbody tr th {\n",
       "        vertical-align: top;\n",
       "    }\n",
       "\n",
       "    .dataframe thead th {\n",
       "        text-align: right;\n",
       "    }\n",
       "</style>\n",
       "<table border=\"1\" class=\"dataframe\">\n",
       "  <thead>\n",
       "    <tr style=\"text-align: right;\">\n",
       "      <th></th>\n",
       "      <th>enrollee_id</th>\n",
       "      <th>target</th>\n",
       "    </tr>\n",
       "  </thead>\n",
       "  <tbody>\n",
       "    <tr>\n",
       "      <th>0</th>\n",
       "      <td>23603</td>\n",
       "      <td>0.610080</td>\n",
       "    </tr>\n",
       "    <tr>\n",
       "      <th>1</th>\n",
       "      <td>22499</td>\n",
       "      <td>0.097625</td>\n",
       "    </tr>\n",
       "    <tr>\n",
       "      <th>2</th>\n",
       "      <td>10465</td>\n",
       "      <td>0.508446</td>\n",
       "    </tr>\n",
       "    <tr>\n",
       "      <th>3</th>\n",
       "      <td>8293</td>\n",
       "      <td>0.061907</td>\n",
       "    </tr>\n",
       "    <tr>\n",
       "      <th>4</th>\n",
       "      <td>4246</td>\n",
       "      <td>0.079914</td>\n",
       "    </tr>\n",
       "    <tr>\n",
       "      <th>...</th>\n",
       "      <td>...</td>\n",
       "      <td>...</td>\n",
       "    </tr>\n",
       "    <tr>\n",
       "      <th>3827</th>\n",
       "      <td>8880</td>\n",
       "      <td>0.508446</td>\n",
       "    </tr>\n",
       "    <tr>\n",
       "      <th>3828</th>\n",
       "      <td>7886</td>\n",
       "      <td>0.061907</td>\n",
       "    </tr>\n",
       "    <tr>\n",
       "      <th>3829</th>\n",
       "      <td>12279</td>\n",
       "      <td>0.135628</td>\n",
       "    </tr>\n",
       "    <tr>\n",
       "      <th>3830</th>\n",
       "      <td>5326</td>\n",
       "      <td>0.145038</td>\n",
       "    </tr>\n",
       "    <tr>\n",
       "      <th>3831</th>\n",
       "      <td>4017</td>\n",
       "      <td>0.079914</td>\n",
       "    </tr>\n",
       "  </tbody>\n",
       "</table>\n",
       "<p>3832 rows × 2 columns</p>\n",
       "</div>"
      ],
      "text/plain": [
       "      enrollee_id    target\n",
       "0           23603  0.610080\n",
       "1           22499  0.097625\n",
       "2           10465  0.508446\n",
       "3            8293  0.061907\n",
       "4            4246  0.079914\n",
       "...           ...       ...\n",
       "3827         8880  0.508446\n",
       "3828         7886  0.061907\n",
       "3829        12279  0.135628\n",
       "3830         5326  0.145038\n",
       "3831         4017  0.079914\n",
       "\n",
       "[3832 rows x 2 columns]"
      ]
     },
     "execution_count": 216,
     "metadata": {},
     "output_type": "execute_result"
    }
   ],
   "source": [
    "df_respuesta"
   ]
  },
  {
   "cell_type": "code",
   "execution_count": null,
   "id": "e45e6588-f618-41bc-9b01-92d785f52dff",
   "metadata": {
    "tags": []
   },
   "outputs": [],
   "source": []
  },
  {
   "cell_type": "code",
   "execution_count": 217,
   "id": "4f6da49f-3257-43a7-bc10-e42ed79edae9",
   "metadata": {},
   "outputs": [],
   "source": [
    "df_respuesta.to_csv('p5_size.csv', index=False) "
   ]
  },
  {
   "cell_type": "code",
   "execution_count": null,
   "id": "a85f97c3-0e9d-4ac0-90d1-e5c50e5179ac",
   "metadata": {
    "tags": []
   },
   "outputs": [],
   "source": []
  },
  {
   "cell_type": "code",
   "execution_count": null,
   "id": "1781abd1-973f-46f1-b136-46c531457d6c",
   "metadata": {},
   "outputs": [],
   "source": []
  },
  {
   "cell_type": "code",
   "execution_count": null,
   "id": "f305172c-f5ab-4cc5-870f-003481697712",
   "metadata": {},
   "outputs": [],
   "source": []
  },
  {
   "cell_type": "code",
   "execution_count": null,
   "id": "bacb853a-1031-49fd-8c41-55e79eef04b3",
   "metadata": {},
   "outputs": [],
   "source": []
  },
  {
   "cell_type": "markdown",
   "id": "4c75ac7f-8703-4253-ac6f-e3e4026e68c9",
   "metadata": {},
   "source": [
    "# AHORA CON BOSQUES"
   ]
  },
  {
   "cell_type": "code",
   "execution_count": 114,
   "id": "c580b340-792e-4d00-b313-e32a129de502",
   "metadata": {},
   "outputs": [],
   "source": [
    "from sklearn.ensemble import RandomForestClassifier"
   ]
  },
  {
   "cell_type": "code",
   "execution_count": 63,
   "id": "23fda528-1d83-439f-a749-594672624864",
   "metadata": {
    "tags": []
   },
   "outputs": [],
   "source": [
    "#forest_simple = RandomForestClassifier(n_estimators = 5).fit(data, y_train)"
   ]
  },
  {
   "cell_type": "code",
   "execution_count": 64,
   "id": "439edcb3-182f-4fbb-9f1e-fd8540581607",
   "metadata": {},
   "outputs": [],
   "source": [
    "forest = RandomForestClassifier()\n",
    "params = {'max_depth': [13, 14,15, 16], 'n_estimators':[10, 50, 100, 500]}\n",
    "grid_forest = GridSearchCV(forest, params).fit(data, y_train)"
   ]
  },
  {
   "cell_type": "code",
   "execution_count": 65,
   "id": "06def7b6-a44c-45f7-8942-5449889963f3",
   "metadata": {},
   "outputs": [
    {
     "data": {
      "text/plain": [
       "RandomForestClassifier(max_depth=13)"
      ]
     },
     "execution_count": 65,
     "metadata": {},
     "output_type": "execute_result"
    }
   ],
   "source": [
    "grid_forest.best_estimator_"
   ]
  },
  {
   "cell_type": "code",
   "execution_count": 94,
   "id": "0a8458ed-54da-4f52-8e86-cbaeafa3f9a7",
   "metadata": {
    "tags": []
   },
   "outputs": [],
   "source": [
    "forest = RandomForestClassifier()\n",
    "params = {'max_depth': [13, 14,15, 16], 'n_estimators':[5, 10, 20, 30]}\n",
    "grid_forest = GridSearchCV(forest, params).fit(data, y_train)"
   ]
  },
  {
   "cell_type": "code",
   "execution_count": 95,
   "id": "9fdda4d5-89e1-4018-8a6a-7e2c62175fb5",
   "metadata": {},
   "outputs": [
    {
     "data": {
      "text/plain": [
       "RandomForestClassifier(max_depth=14, n_estimators=30)"
      ]
     },
     "execution_count": 95,
     "metadata": {},
     "output_type": "execute_result"
    }
   ],
   "source": [
    "grid_forest.best_estimator_"
   ]
  },
  {
   "cell_type": "code",
   "execution_count": 96,
   "id": "3549f097-274a-4f9e-9abf-bdbf3ffccf4a",
   "metadata": {},
   "outputs": [],
   "source": [
    "forest = RandomForestClassifier()\n",
    "params = {'max_depth': [13, 14,15, 16], 'n_estimators':[30, 50, 70, 90]}\n",
    "grid_forest = GridSearchCV(forest, params).fit(data, y_train)"
   ]
  },
  {
   "cell_type": "code",
   "execution_count": 97,
   "id": "8904f697-da6c-4ecb-ad65-aa784724fef3",
   "metadata": {},
   "outputs": [
    {
     "data": {
      "text/plain": [
       "RandomForestClassifier(max_depth=16, n_estimators=70)"
      ]
     },
     "execution_count": 97,
     "metadata": {},
     "output_type": "execute_result"
    }
   ],
   "source": [
    "grid_forest.best_estimator_"
   ]
  },
  {
   "cell_type": "code",
   "execution_count": 98,
   "id": "b42cab64-905b-499f-a69d-a73276143bfa",
   "metadata": {
    "tags": []
   },
   "outputs": [],
   "source": [
    "forest = RandomForestClassifier()\n",
    "params = {'max_depth': [13, 14,15, 16], 'n_estimators':[50, 100, 200, 300]}\n",
    "grid_forest = GridSearchCV(forest, params).fit(data, y_train)"
   ]
  },
  {
   "cell_type": "code",
   "execution_count": 99,
   "id": "5f80debd-7a37-4a2e-b135-fb87a0d8b048",
   "metadata": {},
   "outputs": [
    {
     "data": {
      "text/plain": [
       "RandomForestClassifier(max_depth=14, n_estimators=300)"
      ]
     },
     "execution_count": 99,
     "metadata": {},
     "output_type": "execute_result"
    }
   ],
   "source": [
    "grid_forest.best_estimator_"
   ]
  },
  {
   "cell_type": "code",
   "execution_count": 100,
   "id": "62988183-eb57-4a3d-9b02-d28ba30c0f1b",
   "metadata": {},
   "outputs": [],
   "source": [
    "forest = RandomForestClassifier()\n",
    "params = {'max_depth': [14, 16,17, 18], 'n_estimators':[30, 32, 34, 36]}\n",
    "grid_forest = GridSearchCV(forest, params).fit(data, y_train)"
   ]
  },
  {
   "cell_type": "code",
   "execution_count": 101,
   "id": "6c5d0de4-1bda-49c5-9b4d-a6d48ed86e27",
   "metadata": {},
   "outputs": [
    {
     "data": {
      "text/plain": [
       "RandomForestClassifier(max_depth=14, n_estimators=36)"
      ]
     },
     "execution_count": 101,
     "metadata": {},
     "output_type": "execute_result"
    }
   ],
   "source": [
    "grid_forest.best_estimator_"
   ]
  },
  {
   "cell_type": "code",
   "execution_count": 233,
   "id": "2356698e-34fc-4bcf-a6fb-26a62c68c181",
   "metadata": {},
   "outputs": [
    {
     "data": {
      "text/plain": [
       "RandomForestClassifier(max_depth=16, n_estimators=32)"
      ]
     },
     "execution_count": 233,
     "metadata": {},
     "output_type": "execute_result"
    }
   ],
   "source": [
    "grid_forest.best_estimator_"
   ]
  },
  {
   "cell_type": "code",
   "execution_count": 102,
   "id": "736a2c8b-be81-403e-b8af-3b1f0b940645",
   "metadata": {
    "tags": []
   },
   "outputs": [],
   "source": [
    "forest = RandomForestClassifier()\n",
    "params = {'max_depth': [14, 16,17, 18], 'n_estimators':[32, 50, 500]}\n",
    "grid_forest = GridSearchCV(forest, params).fit(data, y_train)"
   ]
  },
  {
   "cell_type": "code",
   "execution_count": 103,
   "id": "995d3429-fa0f-4498-99f2-02f8f80926b8",
   "metadata": {
    "tags": []
   },
   "outputs": [
    {
     "data": {
      "text/plain": [
       "RandomForestClassifier(max_depth=16, n_estimators=500)"
      ]
     },
     "execution_count": 103,
     "metadata": {},
     "output_type": "execute_result"
    }
   ],
   "source": [
    "grid_forest.best_estimator_"
   ]
  },
  {
   "cell_type": "code",
   "execution_count": 102,
   "id": "a9f9db64-937b-42f9-a84d-43ece905a38f",
   "metadata": {},
   "outputs": [],
   "source": [
    "forest = RandomForestClassifier()\n",
    "params = {'max_depth': [13, 14], 'n_estimators':[325, 350, 375]}\n",
    "grid_forest = GridSearchCV(forest, params).fit(data, y_train)"
   ]
  },
  {
   "cell_type": "code",
   "execution_count": 103,
   "id": "bb88d3a4-c0fe-4648-94c1-d96d3f6402bf",
   "metadata": {
    "tags": []
   },
   "outputs": [
    {
     "data": {
      "text/plain": [
       "RandomForestClassifier(max_depth=13, n_estimators=375)"
      ]
     },
     "execution_count": 103,
     "metadata": {},
     "output_type": "execute_result"
    }
   ],
   "source": [
    "grid_forest.best_estimator_"
   ]
  },
  {
   "cell_type": "code",
   "execution_count": 309,
   "id": "f4768542-4bae-40ef-9740-ff2a40cb2a37",
   "metadata": {},
   "outputs": [],
   "source": [
    "forest = RandomForestClassifier()\n",
    "params = {'max_depth': [ 13, 14], 'n_estimators':[350, 360, 370]}\n",
    "grid_forest = GridSearchCV(forest, params).fit(data, y_train)"
   ]
  },
  {
   "cell_type": "code",
   "execution_count": 310,
   "id": "260d272f-56a2-481f-8c7e-1f29946ce518",
   "metadata": {},
   "outputs": [
    {
     "data": {
      "text/plain": [
       "RandomForestClassifier(max_depth=13, n_estimators=370)"
      ]
     },
     "execution_count": 310,
     "metadata": {},
     "output_type": "execute_result"
    }
   ],
   "source": [
    "grid_forest.best_estimator_"
   ]
  },
  {
   "cell_type": "code",
   "execution_count": 155,
   "id": "f4909b05-df66-4331-adfe-0e87180016ef",
   "metadata": {
    "tags": []
   },
   "outputs": [],
   "source": [
    "forest = RandomForestClassifier()\n",
    "params = {'max_depth': [10,11,12], 'n_estimators':[300, 330, 350]}\n",
    "grid_forest = GridSearchCV(forest, params).fit(data, y_train)"
   ]
  },
  {
   "cell_type": "code",
   "execution_count": 152,
   "id": "f2ecb776-4ac2-45c5-bdc6-56d949bf2620",
   "metadata": {
    "tags": []
   },
   "outputs": [
    {
     "data": {
      "text/plain": [
       "RandomForestClassifier(max_depth=11, n_estimators=350)"
      ]
     },
     "execution_count": 152,
     "metadata": {},
     "output_type": "execute_result"
    }
   ],
   "source": [
    "grid_forest.best_estimator_"
   ]
  },
  {
   "cell_type": "code",
   "execution_count": 150,
   "id": "20b11ba2-b410-4f7a-9246-d75f5ddcbd16",
   "metadata": {
    "tags": []
   },
   "outputs": [
    {
     "data": {
      "text/plain": [
       "RandomForestClassifier(max_depth=11, n_estimators=400)"
      ]
     },
     "execution_count": 150,
     "metadata": {},
     "output_type": "execute_result"
    }
   ],
   "source": [
    "grid_forest.best_estimator_"
   ]
  },
  {
   "cell_type": "code",
   "execution_count": 154,
   "id": "918d95d6-68a7-4e8e-b6d4-a81e8421c6b6",
   "metadata": {
    "tags": []
   },
   "outputs": [
    {
     "data": {
      "text/plain": [
       "RandomForestClassifier(max_depth=12, n_estimators=330)"
      ]
     },
     "execution_count": 154,
     "metadata": {},
     "output_type": "execute_result"
    }
   ],
   "source": [
    "grid_forest.best_estimator_"
   ]
  },
  {
   "cell_type": "code",
   "execution_count": 156,
   "id": "87b0b040-8387-42f2-8df3-3bda0d938087",
   "metadata": {},
   "outputs": [
    {
     "data": {
      "text/plain": [
       "RandomForestClassifier(max_depth=10, n_estimators=300)"
      ]
     },
     "execution_count": 156,
     "metadata": {},
     "output_type": "execute_result"
    }
   ],
   "source": [
    "grid_forest.best_estimator_"
   ]
  },
  {
   "cell_type": "code",
   "execution_count": null,
   "id": "9798127b-486a-4e7f-9b1c-493869fe8c10",
   "metadata": {},
   "outputs": [],
   "source": []
  },
  {
   "cell_type": "code",
   "execution_count": 50,
   "id": "6e58a13b-d5e3-462d-8ab5-9b06fef5a5b0",
   "metadata": {
    "tags": []
   },
   "outputs": [],
   "source": [
    "best_forest = RandomForestClassifier(max_depth=13, n_estimators=400).fit(data, y_train)"
   ]
  },
  {
   "cell_type": "code",
   "execution_count": 52,
   "id": "e8923ec5-b049-46bf-8613-9a12e801a3a7",
   "metadata": {
    "tags": []
   },
   "outputs": [],
   "source": [
    "predictions_forest = best_forest.predict(data)"
   ]
  },
  {
   "cell_type": "code",
   "execution_count": 108,
   "id": "865d5517-32dc-4520-a150-933690e98522",
   "metadata": {
    "tags": []
   },
   "outputs": [
    {
     "data": {
      "text/plain": [
       "0.9045676998368679"
      ]
     },
     "execution_count": 108,
     "metadata": {},
     "output_type": "execute_result"
    }
   ],
   "source": [
    "metrics.accuracy_score(y_train, predictions_forest) #### NUEVO best_forest = RandomForestClassifier(max_depth=14, n_estimators=300).fit(data, y_train) /// CON TIPO DE EMPRESA MEDIAN Y MISSIN"
   ]
  },
  {
   "cell_type": "code",
   "execution_count": 179,
   "id": "1d9b5fa7-f0c4-4287-aff9-68d94d364645",
   "metadata": {},
   "outputs": [
    {
     "data": {
      "text/plain": [
       "0.9053833605220228"
      ]
     },
     "execution_count": 179,
     "metadata": {},
     "output_type": "execute_result"
    }
   ],
   "source": [
    "metrics.accuracy_score(y_train, predictions_forest) # best_forest = RandomForestClassifier(max_depth=14, n_estimators=450).fit(data, y_train) XXXXX /// CON TIPO DE EMPRESA MEDIAN Y MISSIN"
   ]
  },
  {
   "cell_type": "code",
   "execution_count": 646,
   "id": "c0fce26c-5664-4d84-adcc-0412a1dc3eb0",
   "metadata": {},
   "outputs": [
    {
     "data": {
      "text/plain": [
       "0.8912724306688418"
      ]
     },
     "execution_count": 646,
     "metadata": {},
     "output_type": "execute_result"
    }
   ],
   "source": [
    "metrics.accuracy_score(y_train, predictions_forest) "
   ]
  },
  {
   "cell_type": "code",
   "execution_count": 260,
   "id": "dcac55c5-5262-48f4-b14a-7b1c869f9c6a",
   "metadata": {
    "tags": []
   },
   "outputs": [
    {
     "data": {
      "text/plain": [
       "0.899836867862969"
      ]
     },
     "execution_count": 260,
     "metadata": {},
     "output_type": "execute_result"
    }
   ],
   "source": [
    "metrics.accuracy_score(y_train, predictions_forest) # best_forest = RandomForestClassifier(max_depth=14, n_estimators=300).fit(data, y_train)"
   ]
  },
  {
   "cell_type": "code",
   "execution_count": 301,
   "id": "73c53967-23a8-48a4-897b-82209bd4e017",
   "metadata": {},
   "outputs": [
    {
     "data": {
      "text/plain": [
       "0.90163132137031"
      ]
     },
     "execution_count": 301,
     "metadata": {},
     "output_type": "execute_result"
    }
   ],
   "source": [
    "metrics.accuracy_score(y_train, predictions_forest) # best_forest = RandomForestClassifier(max_depth=14, n_estimators=50).fit(data, y_train) lksajdklajdlasjda"
   ]
  },
  {
   "cell_type": "code",
   "execution_count": 206,
   "id": "1bb0cc87-48a2-4c46-9bd8-4084ddfca089",
   "metadata": {},
   "outputs": [
    {
     "data": {
      "text/plain": [
       "0.9050570962479608"
      ]
     },
     "execution_count": 206,
     "metadata": {},
     "output_type": "execute_result"
    }
   ],
   "source": [
    "metrics.accuracy_score(y_train, predictions_forest) # best_forest = RandomForestClassifier(max_depth=14, n_estimators=300).fit(data, y_train)  /// CON TIPO DE EMPRESA MEAN Y MISSIN 350"
   ]
  },
  {
   "cell_type": "code",
   "execution_count": 144,
   "id": "759173b4-8a18-4daf-ab74-cf92ed0e7c1f",
   "metadata": {},
   "outputs": [
    {
     "data": {
      "text/plain": [
       "0.884257748776509"
      ]
     },
     "execution_count": 144,
     "metadata": {},
     "output_type": "execute_result"
    }
   ],
   "source": [
    "metrics.accuracy_score(y_train, predictions_forest) # "
   ]
  },
  {
   "cell_type": "code",
   "execution_count": 53,
   "id": "964f60c0-f3e3-4392-a215-dae0f71f46cb",
   "metadata": {},
   "outputs": [
    {
     "data": {
      "text/plain": [
       "0.8827079934747145"
      ]
     },
     "execution_count": 53,
     "metadata": {},
     "output_type": "execute_result"
    }
   ],
   "source": [
    "metrics.accuracy_score(y_train, predictions_forest) # A VENCER"
   ]
  },
  {
   "cell_type": "code",
   "execution_count": null,
   "id": "757fd9bb-c8e8-4a69-8ab7-fb04aaf4a56d",
   "metadata": {},
   "outputs": [],
   "source": []
  },
  {
   "cell_type": "code",
   "execution_count": 57,
   "id": "2dab0dae-6f5e-40c7-b930-7295bd37f874",
   "metadata": {
    "tags": []
   },
   "outputs": [],
   "source": [
    "predictions_test = best_forest.predict(data_test)"
   ]
  },
  {
   "cell_type": "code",
   "execution_count": null,
   "id": "ae28cd6f-5a1a-42aa-888d-c36312e77134",
   "metadata": {},
   "outputs": [],
   "source": []
  },
  {
   "cell_type": "code",
   "execution_count": 58,
   "id": "b885226f-5b8f-4380-8364-598ad97e0303",
   "metadata": {
    "tags": []
   },
   "outputs": [
    {
     "data": {
      "text/plain": [
       "0.7847358121330724"
      ]
     },
     "execution_count": 58,
     "metadata": {},
     "output_type": "execute_result"
    }
   ],
   "source": [
    "metrics.accuracy_score(y_test, predictions_test) # NUEVO best_forest = RandomForestClassifier(max_depth=14, n_estimators=300).fit(data, y_train) /// CON TIPO DE EMPRESA MEDIAN Y MISSIN"
   ]
  },
  {
   "cell_type": "code",
   "execution_count": 173,
   "id": "f2dcb7db-12c2-49b9-8951-b041e69692ac",
   "metadata": {},
   "outputs": [
    {
     "data": {
      "text/plain": [
       "0.7902804957599479"
      ]
     },
     "execution_count": 173,
     "metadata": {},
     "output_type": "execute_result"
    }
   ],
   "source": [
    "metrics.accuracy_score(y_test, predictions_test) # best_forest = RandomForestClassifier(max_depth=14, n_estimators=400).fit(data, y_train)"
   ]
  },
  {
   "cell_type": "code",
   "execution_count": 262,
   "id": "63f2eb7f-bcd1-4fcc-984c-89c1f17f4183",
   "metadata": {
    "tags": []
   },
   "outputs": [
    {
     "data": {
      "text/plain": [
       "0.7876712328767124"
      ]
     },
     "execution_count": 262,
     "metadata": {},
     "output_type": "execute_result"
    }
   ],
   "source": [
    "metrics.accuracy_score(y_test, predictions_test) # best_forest = RandomForestClassifier(max_depth=14, n_estimators=50).fit(data, y_train)"
   ]
  },
  {
   "cell_type": "code",
   "execution_count": 303,
   "id": "a9a639d2-d0a0-4fd3-a5b5-15b1daa1134a",
   "metadata": {},
   "outputs": [
    {
     "data": {
      "text/plain": [
       "0.7834311806914547"
      ]
     },
     "execution_count": 303,
     "metadata": {},
     "output_type": "execute_result"
    }
   ],
   "source": [
    "metrics.accuracy_score(y_test, predictions_test) # best_forest = RandomForestClassifier(max_depth=14, n_estimators=50).fit(data, y_train) klhdslakdñadjañsd"
   ]
  },
  {
   "cell_type": "code",
   "execution_count": 209,
   "id": "553a59ab-7e3b-4884-b116-9550af5d2163",
   "metadata": {},
   "outputs": [
    {
     "data": {
      "text/plain": [
       "0.7896281800391389"
      ]
     },
     "execution_count": 209,
     "metadata": {},
     "output_type": "execute_result"
    }
   ],
   "source": [
    "metrics.accuracy_score(y_test, predictions_test) # # best_forest = RandomForestClassifier(max_depth=14, n_estimators=300).fit(data, y_train)  /// CON TIPO DE EMPRESA MEAN Y MISSIN 350"
   ]
  },
  {
   "cell_type": "code",
   "execution_count": 146,
   "id": "e8180604-bb6c-4e41-8eaf-d481921dfcbf",
   "metadata": {
    "tags": []
   },
   "outputs": [
    {
     "data": {
      "text/plain": [
       "0.7857142857142857"
      ]
     },
     "execution_count": 146,
     "metadata": {},
     "output_type": "execute_result"
    }
   ],
   "source": [
    "metrics.accuracy_score(y_test, predictions_test) # "
   ]
  },
  {
   "cell_type": "code",
   "execution_count": 60,
   "id": "dc1dd997-f67e-47e3-85d6-d8bd9b3a1ba4",
   "metadata": {},
   "outputs": [
    {
     "data": {
      "text/plain": [
       "0.7847358121330724"
      ]
     },
     "execution_count": 60,
     "metadata": {},
     "output_type": "execute_result"
    }
   ],
   "source": [
    "metrics.accuracy_score(y_test, predictions_test) # VALOR A VENCER"
   ]
  },
  {
   "cell_type": "code",
   "execution_count": null,
   "id": "dc4628f4-ef2a-479f-b483-2a12863f890f",
   "metadata": {},
   "outputs": [],
   "source": []
  },
  {
   "cell_type": "code",
   "execution_count": null,
   "id": "658bb5e1-c68e-42cb-937b-b1fd601ee9bd",
   "metadata": {},
   "outputs": [],
   "source": []
  },
  {
   "cell_type": "code",
   "execution_count": 218,
   "id": "73cb0f19-7632-4add-8c07-e2f0a279ef5d",
   "metadata": {},
   "outputs": [
    {
     "data": {
      "text/plain": [
       "array([0., 1., 1., ..., 1., 0., 0.])"
      ]
     },
     "execution_count": 218,
     "metadata": {},
     "output_type": "execute_result"
    }
   ],
   "source": [
    "predictions_forest = best_forest.predict(data)\n",
    "predictions_forest"
   ]
  },
  {
   "cell_type": "code",
   "execution_count": 254,
   "id": "c7d7b91c-0bc6-48ba-9293-efd91ce11573",
   "metadata": {},
   "outputs": [
    {
     "data": {
      "text/plain": [
       "0.8258564437194127"
      ]
     },
     "execution_count": 254,
     "metadata": {},
     "output_type": "execute_result"
    }
   ],
   "source": [
    "metrics.accuracy_score(y_train, predictions_forest)"
   ]
  },
  {
   "cell_type": "code",
   "execution_count": null,
   "id": "63680e66-ae15-4545-9b6c-47dd617955a9",
   "metadata": {
    "tags": []
   },
   "outputs": [],
   "source": []
  },
  {
   "cell_type": "code",
   "execution_count": null,
   "id": "273be581-5f16-4704-9337-63e58862044d",
   "metadata": {},
   "outputs": [],
   "source": []
  },
  {
   "cell_type": "code",
   "execution_count": 168,
   "id": "eb0d72c4-ea17-4978-b70d-ba40ccb83748",
   "metadata": {},
   "outputs": [
    {
     "data": {
      "text/plain": [
       "array([[0.39480878, 0.60519122],\n",
       "       [0.90979195, 0.09020805],\n",
       "       [0.39109782, 0.60890218],\n",
       "       ...,\n",
       "       [0.90051746, 0.09948254],\n",
       "       [0.72572361, 0.27427639],\n",
       "       [0.95062521, 0.04937479]])"
      ]
     },
     "execution_count": 168,
     "metadata": {},
     "output_type": "execute_result"
    }
   ],
   "source": [
    "predictions_test = best_forest.predict_proba(data_test_final)\n",
    "predictions_test"
   ]
  },
  {
   "cell_type": "code",
   "execution_count": 169,
   "id": "3aa30d78-59e0-4f28-9a61-cde3002720d2",
   "metadata": {},
   "outputs": [],
   "source": [
    "list_test = []\n",
    "for x in predictions_test:\n",
    "    #print(x[1])\n",
    "    list_test.append(x[1])"
   ]
  },
  {
   "cell_type": "code",
   "execution_count": 170,
   "id": "dae70593-48f7-49ef-871e-3ffc3b88f807",
   "metadata": {
    "tags": []
   },
   "outputs": [],
   "source": [
    "df_respuesta['target'] = pd.DataFrame(list_test)"
   ]
  },
  {
   "cell_type": "code",
   "execution_count": 171,
   "id": "434c3b54-3059-4061-acdb-5e070cf73ec1",
   "metadata": {},
   "outputs": [
    {
     "data": {
      "text/html": [
       "<div>\n",
       "<style scoped>\n",
       "    .dataframe tbody tr th:only-of-type {\n",
       "        vertical-align: middle;\n",
       "    }\n",
       "\n",
       "    .dataframe tbody tr th {\n",
       "        vertical-align: top;\n",
       "    }\n",
       "\n",
       "    .dataframe thead th {\n",
       "        text-align: right;\n",
       "    }\n",
       "</style>\n",
       "<table border=\"1\" class=\"dataframe\">\n",
       "  <thead>\n",
       "    <tr style=\"text-align: right;\">\n",
       "      <th></th>\n",
       "      <th>enrollee_id</th>\n",
       "      <th>target</th>\n",
       "    </tr>\n",
       "  </thead>\n",
       "  <tbody>\n",
       "    <tr>\n",
       "      <th>0</th>\n",
       "      <td>23603</td>\n",
       "      <td>0.605191</td>\n",
       "    </tr>\n",
       "    <tr>\n",
       "      <th>1</th>\n",
       "      <td>22499</td>\n",
       "      <td>0.090208</td>\n",
       "    </tr>\n",
       "    <tr>\n",
       "      <th>2</th>\n",
       "      <td>10465</td>\n",
       "      <td>0.608902</td>\n",
       "    </tr>\n",
       "    <tr>\n",
       "      <th>3</th>\n",
       "      <td>8293</td>\n",
       "      <td>0.065641</td>\n",
       "    </tr>\n",
       "    <tr>\n",
       "      <th>4</th>\n",
       "      <td>4246</td>\n",
       "      <td>0.075999</td>\n",
       "    </tr>\n",
       "    <tr>\n",
       "      <th>...</th>\n",
       "      <td>...</td>\n",
       "      <td>...</td>\n",
       "    </tr>\n",
       "    <tr>\n",
       "      <th>3827</th>\n",
       "      <td>8880</td>\n",
       "      <td>0.563243</td>\n",
       "    </tr>\n",
       "    <tr>\n",
       "      <th>3828</th>\n",
       "      <td>7886</td>\n",
       "      <td>0.090883</td>\n",
       "    </tr>\n",
       "    <tr>\n",
       "      <th>3829</th>\n",
       "      <td>12279</td>\n",
       "      <td>0.099483</td>\n",
       "    </tr>\n",
       "    <tr>\n",
       "      <th>3830</th>\n",
       "      <td>5326</td>\n",
       "      <td>0.274276</td>\n",
       "    </tr>\n",
       "    <tr>\n",
       "      <th>3831</th>\n",
       "      <td>4017</td>\n",
       "      <td>0.049375</td>\n",
       "    </tr>\n",
       "  </tbody>\n",
       "</table>\n",
       "<p>3832 rows × 2 columns</p>\n",
       "</div>"
      ],
      "text/plain": [
       "      enrollee_id    target\n",
       "0           23603  0.605191\n",
       "1           22499  0.090208\n",
       "2           10465  0.608902\n",
       "3            8293  0.065641\n",
       "4            4246  0.075999\n",
       "...           ...       ...\n",
       "3827         8880  0.563243\n",
       "3828         7886  0.090883\n",
       "3829        12279  0.099483\n",
       "3830         5326  0.274276\n",
       "3831         4017  0.049375\n",
       "\n",
       "[3832 rows x 2 columns]"
      ]
     },
     "execution_count": 171,
     "metadata": {},
     "output_type": "execute_result"
    }
   ],
   "source": [
    "df_respuesta"
   ]
  },
  {
   "cell_type": "code",
   "execution_count": 172,
   "id": "c843a714-579a-4b3d-a32e-8b681e8a4a5c",
   "metadata": {},
   "outputs": [],
   "source": [
    "df_respuesta.to_csv('p9_12_350.csv', index=False) "
   ]
  },
  {
   "cell_type": "code",
   "execution_count": null,
   "id": "fb08ac6a-f2c6-445c-a8bf-ace543ebe4dc",
   "metadata": {},
   "outputs": [],
   "source": []
  },
  {
   "cell_type": "code",
   "execution_count": null,
   "id": "c106b651-e656-412c-8753-07de250575ea",
   "metadata": {},
   "outputs": [],
   "source": []
  },
  {
   "cell_type": "code",
   "execution_count": null,
   "id": "addc4ecc-06ac-4518-bf55-eba95f5db2ba",
   "metadata": {},
   "outputs": [],
   "source": []
  },
  {
   "cell_type": "code",
   "execution_count": null,
   "id": "c9497891-ffa5-4a15-8416-2b6735d228b7",
   "metadata": {},
   "outputs": [],
   "source": []
  },
  {
   "cell_type": "code",
   "execution_count": null,
   "id": "45c7da6e-5560-4c30-b1b5-8fbdbd503286",
   "metadata": {},
   "outputs": [],
   "source": []
  },
  {
   "cell_type": "code",
   "execution_count": null,
   "id": "faf835e9-3452-484f-9c94-d01d43234ef1",
   "metadata": {},
   "outputs": [],
   "source": []
  },
  {
   "cell_type": "code",
   "execution_count": null,
   "id": "f2ed7aa1-2b64-4030-9623-462622266be4",
   "metadata": {},
   "outputs": [],
   "source": []
  },
  {
   "cell_type": "code",
   "execution_count": null,
   "id": "fb5cfe6b-015e-44ad-b35b-b11bcfdbd47f",
   "metadata": {},
   "outputs": [],
   "source": []
  },
  {
   "cell_type": "code",
   "execution_count": null,
   "id": "c90778cf-54fd-49a8-953e-e07fc4039602",
   "metadata": {},
   "outputs": [],
   "source": []
  },
  {
   "cell_type": "code",
   "execution_count": null,
   "id": "a2226895-279a-4c1e-94fe-43b064410902",
   "metadata": {},
   "outputs": [],
   "source": []
  },
  {
   "cell_type": "code",
   "execution_count": null,
   "id": "03c345f7-bd5b-4b88-830e-ef1babb73706",
   "metadata": {},
   "outputs": [],
   "source": []
  },
  {
   "cell_type": "code",
   "execution_count": null,
   "id": "f3323087-418b-4acb-998b-3d671bdcd1ba",
   "metadata": {},
   "outputs": [],
   "source": []
  },
  {
   "cell_type": "code",
   "execution_count": null,
   "id": "33cebb8f-4ade-4d31-ae2b-87523b57e9e5",
   "metadata": {},
   "outputs": [],
   "source": []
  },
  {
   "cell_type": "code",
   "execution_count": 66,
   "id": "8a802fe1-bc06-4db7-a914-b25cb3fc3833",
   "metadata": {},
   "outputs": [],
   "source": [
    "from imblearn.over_sampling import RandomOverSampler\n",
    "from imblearn.under_sampling import RandomUnderSampler"
   ]
  },
  {
   "cell_type": "code",
   "execution_count": 67,
   "id": "1b458311-a491-4527-a483-1d3bbc212fd6",
   "metadata": {},
   "outputs": [],
   "source": [
    "oversampler = RandomOverSampler(random_state=2102)\n",
    "undersampler = RandomUnderSampler(random_state=2102)"
   ]
  },
  {
   "cell_type": "code",
   "execution_count": 68,
   "id": "6ce6b986-c6a0-496e-88e6-89093a19c4d3",
   "metadata": {
    "tags": []
   },
   "outputs": [],
   "source": [
    "X_train_over, y_train_over = oversampler.fit_resample(X_train, y_train)"
   ]
  },
  {
   "cell_type": "code",
   "execution_count": null,
   "id": "39f0ba44-695c-4877-b263-b3fbc274bb53",
   "metadata": {},
   "outputs": [],
   "source": []
  },
  {
   "cell_type": "code",
   "execution_count": 64,
   "id": "4b75cf23-7b58-41dc-b99e-0946905fef14",
   "metadata": {},
   "outputs": [
    {
     "name": "stdout",
     "output_type": "stream",
     "text": [
      "[Pipeline] ... (step 1 of 4) Processing mean_imputation, total=   0.0s\n",
      "[Pipeline] ... (step 2 of 4) Processing mode_imputation, total=   0.0s\n",
      "[Pipeline] ........... (step 3 of 4) Processing escalar, total=   0.0s\n",
      "[Pipeline] ........... (step 4 of 4) Processing one_hot, total=   0.0s\n"
     ]
    },
    {
     "data": {
      "text/plain": [
       "Pipeline(steps=[('mean_imputation',\n",
       "                 MeanMedianImputer(imputation_method='mean',\n",
       "                                   variables=['experience', 'last_new_job',\n",
       "                                              'city_development_index',\n",
       "                                              'training_hours'])),\n",
       "                ('mode_imputation',\n",
       "                 CategoricalImputer(variables=['education_level',\n",
       "                                               'relevent_experience',\n",
       "                                               'company_size',\n",
       "                                               'company_type'])),\n",
       "                ('escalar',\n",
       "                 SklearnTransformerWrapper(transformer=StandardScaler(),\n",
       "                                           variables=['experience',\n",
       "                                                      'last_new_job',\n",
       "                                                      'training_hours'])),\n",
       "                ('one_hot',\n",
       "                 OneHotEncoder(variables=['education_level',\n",
       "                                          'relevent_experience', 'company_size',\n",
       "                                          'company_type']))],\n",
       "         verbose=True)"
      ]
     },
     "execution_count": 64,
     "metadata": {},
     "output_type": "execute_result"
    }
   ],
   "source": [
    "pipeline_competencia.fit(X_train_over, y_train_over)"
   ]
  },
  {
   "cell_type": "code",
   "execution_count": 69,
   "id": "c9b97c48-15f6-4d13-a82f-d757f4045ea1",
   "metadata": {},
   "outputs": [],
   "source": [
    "data_over = pipeline_competencia.transform(X_train_over)\n",
    "data_test_over = pipeline_competencia.transform(X_test)"
   ]
  },
  {
   "cell_type": "code",
   "execution_count": null,
   "id": "f54f89bb-5184-49bc-8dc3-8f18aca8ad41",
   "metadata": {
    "tags": []
   },
   "outputs": [],
   "source": []
  },
  {
   "cell_type": "code",
   "execution_count": 116,
   "id": "4abf3999-2b91-4d54-a568-af07be3b719a",
   "metadata": {},
   "outputs": [],
   "source": [
    "forest = RandomForestClassifier()\n",
    "params = {'max_depth': [23, 22,24, 25], 'n_estimators':[100, 200, 300]}\n",
    "grid_forest = GridSearchCV(forest, params).fit(data_over, y_train_over)"
   ]
  },
  {
   "cell_type": "code",
   "execution_count": 117,
   "id": "7e5c911d-7c62-4391-85f9-d728e0e0bb3a",
   "metadata": {},
   "outputs": [
    {
     "data": {
      "text/plain": [
       "RandomForestClassifier(max_depth=25)"
      ]
     },
     "execution_count": 117,
     "metadata": {},
     "output_type": "execute_result"
    }
   ],
   "source": [
    "grid_forest.best_estimator_"
   ]
  },
  {
   "cell_type": "code",
   "execution_count": null,
   "id": "616d9c87-2507-43a1-950f-b45c270f79ef",
   "metadata": {},
   "outputs": [],
   "source": []
  },
  {
   "cell_type": "code",
   "execution_count": null,
   "id": "a1614dab-abee-4ea5-bb89-e95ed4b4bef5",
   "metadata": {},
   "outputs": [],
   "source": []
  },
  {
   "cell_type": "code",
   "execution_count": 118,
   "id": "ad698646-1c34-422e-bada-fbf449945a26",
   "metadata": {},
   "outputs": [],
   "source": [
    "best_forest = RandomForestClassifier(max_depth=25, n_estimators=200).fit(data_over, y_train_over) "
   ]
  },
  {
   "cell_type": "code",
   "execution_count": null,
   "id": "8542ce0c-66b3-4235-be75-08143d3901d1",
   "metadata": {},
   "outputs": [],
   "source": []
  },
  {
   "cell_type": "code",
   "execution_count": 119,
   "id": "cda880e8-0c58-4f30-93e7-84f0289f8100",
   "metadata": {},
   "outputs": [],
   "source": [
    "predictions_over = best_forest.predict(data_over)"
   ]
  },
  {
   "cell_type": "code",
   "execution_count": 72,
   "id": "a93fc36f-295d-4e96-851e-99b1b32e51b8",
   "metadata": {
    "tags": []
   },
   "outputs": [
    {
     "data": {
      "text/plain": [
       "0.7847358121330724"
      ]
     },
     "execution_count": 72,
     "metadata": {},
     "output_type": "execute_result"
    }
   ],
   "source": [
    "metrics.accuracy_score(y_test, predictions_test) # best_forest = RandomForestClassifier(max_depth=18, n_estimators=400).fit(data_over, y_train_over) "
   ]
  },
  {
   "cell_type": "code",
   "execution_count": 88,
   "id": "a4177dbf-f140-4868-9e12-b24b3377c1e5",
   "metadata": {
    "tags": []
   },
   "outputs": [
    {
     "data": {
      "text/plain": [
       "0.7690802348336595"
      ]
     },
     "execution_count": 88,
     "metadata": {},
     "output_type": "execute_result"
    }
   ],
   "source": [
    "metrics.accuracy_score(y_test, predictions_test)  # NO SUPERA EL ARBOL ORIGINAL, SIN OVER max_depth=18, n_estimators=400"
   ]
  },
  {
   "cell_type": "code",
   "execution_count": 120,
   "id": "86ceff68-c442-4e3f-b597-d929fbeebedd",
   "metadata": {},
   "outputs": [
    {
     "data": {
      "text/plain": [
       "0.758969341161122"
      ]
     },
     "execution_count": 120,
     "metadata": {},
     "output_type": "execute_result"
    }
   ],
   "source": [
    "metrics.accuracy_score(y_test, predictions_test) # RandomForestClassifier(max_depth=25, n_estimators=200).fit(data_over, y_train_over) "
   ]
  },
  {
   "cell_type": "code",
   "execution_count": 121,
   "id": "0480c286-e0d5-47a6-b199-b8683e33b06a",
   "metadata": {},
   "outputs": [],
   "source": [
    "predictions_test = best_forest.predict(data_test_over)"
   ]
  },
  {
   "cell_type": "code",
   "execution_count": 74,
   "id": "329811be-b202-4a3d-a39c-dbf452bc20e1",
   "metadata": {},
   "outputs": [
    {
     "data": {
      "text/plain": [
       "0.7821265492498369"
      ]
     },
     "execution_count": 74,
     "metadata": {},
     "output_type": "execute_result"
    }
   ],
   "source": [
    "metrics.accuracy_score(y_test, predictions_test) # best_forest = RandomForestClassifier(max_depth=18, n_estimators=400).fit(data_over, y_train_over) "
   ]
  },
  {
   "cell_type": "code",
   "execution_count": 90,
   "id": "af6789a5-170a-4972-adf7-67c1fdfca569",
   "metadata": {
    "tags": []
   },
   "outputs": [
    {
     "data": {
      "text/plain": [
       "0.7834311806914547"
      ]
     },
     "execution_count": 90,
     "metadata": {},
     "output_type": "execute_result"
    }
   ],
   "source": [
    "metrics.accuracy_score(y_test, predictions_test) # NO SUPERA EL ARBOL ORIGINAL, SIN OVERmax_depth=18, n_estimators=400"
   ]
  },
  {
   "cell_type": "code",
   "execution_count": 122,
   "id": "d1de17d2-77a1-44b6-b9db-1828d01dcd3c",
   "metadata": {},
   "outputs": [
    {
     "data": {
      "text/plain": [
       "0.771689497716895"
      ]
     },
     "execution_count": 122,
     "metadata": {},
     "output_type": "execute_result"
    }
   ],
   "source": [
    "metrics.accuracy_score(y_test, predictions_test) # RandomForestClassifier(max_depth=25, n_estimators=200).fit(data_over, y_train_over) "
   ]
  },
  {
   "cell_type": "code",
   "execution_count": null,
   "id": "4d8330a8-d0d8-4d08-8ebd-1e10390cba1b",
   "metadata": {},
   "outputs": [],
   "source": []
  },
  {
   "cell_type": "code",
   "execution_count": 105,
   "id": "64d86c69-428b-4339-a882-0d7b47c6c326",
   "metadata": {
    "tags": []
   },
   "outputs": [],
   "source": [
    "X_train_under, y_train_under = undersampler.fit_resample(X_train, y_train)"
   ]
  },
  {
   "cell_type": "code",
   "execution_count": 106,
   "id": "5df5219b-204d-4a3b-b57f-64d86d9f9c52",
   "metadata": {},
   "outputs": [
    {
     "name": "stdout",
     "output_type": "stream",
     "text": [
      "[Pipeline] ... (step 1 of 4) Processing mean_imputation, total=   0.0s\n",
      "[Pipeline] ... (step 2 of 4) Processing mode_imputation, total=   0.0s\n",
      "[Pipeline] ........... (step 3 of 4) Processing escalar, total=   0.0s\n",
      "[Pipeline] ........... (step 4 of 4) Processing one_hot, total=   0.0s\n"
     ]
    },
    {
     "data": {
      "text/plain": [
       "Pipeline(steps=[('mean_imputation',\n",
       "                 MeanMedianImputer(imputation_method='mean',\n",
       "                                   variables=['experience', 'last_new_job',\n",
       "                                              'city_development_index',\n",
       "                                              'training_hours'])),\n",
       "                ('mode_imputation',\n",
       "                 CategoricalImputer(variables=['education_level',\n",
       "                                               'relevent_experience',\n",
       "                                               'company_size',\n",
       "                                               'company_type'])),\n",
       "                ('escalar',\n",
       "                 SklearnTransformerWrapper(transformer=StandardScaler(),\n",
       "                                           variables=['experience',\n",
       "                                                      'last_new_job',\n",
       "                                                      'training_hours'])),\n",
       "                ('one_hot',\n",
       "                 OneHotEncoder(variables=['education_level',\n",
       "                                          'relevent_experience', 'company_size',\n",
       "                                          'company_type']))],\n",
       "         verbose=True)"
      ]
     },
     "execution_count": 106,
     "metadata": {},
     "output_type": "execute_result"
    }
   ],
   "source": [
    "pipeline_competencia.fit(X_train_under, y_train_under)"
   ]
  },
  {
   "cell_type": "code",
   "execution_count": 107,
   "id": "c9e72e91-7ee1-4581-a4fa-cf8bdf772bf5",
   "metadata": {},
   "outputs": [],
   "source": [
    "data_under = pipeline_competencia.transform(X_train_under)\n",
    "data_test_under = pipeline_competencia.transform(X_test)"
   ]
  },
  {
   "cell_type": "code",
   "execution_count": 108,
   "id": "f64c913b-7b02-4359-ad22-a142a459a24c",
   "metadata": {},
   "outputs": [],
   "source": [
    "best_forest = RandomForestClassifier(max_depth=18, n_estimators=400).fit(data_under, y_train_under) "
   ]
  },
  {
   "cell_type": "code",
   "execution_count": 109,
   "id": "c24dae89-ca46-4189-ab14-bf9657507785",
   "metadata": {
    "tags": []
   },
   "outputs": [],
   "source": [
    "predictions_under = best_forest.predict(data_under)"
   ]
  },
  {
   "cell_type": "code",
   "execution_count": 110,
   "id": "3f601840-c15d-4419-9fb1-a7c32f6e8072",
   "metadata": {},
   "outputs": [
    {
     "data": {
      "text/plain": [
       "0.957502451781628"
      ]
     },
     "execution_count": 110,
     "metadata": {},
     "output_type": "execute_result"
    }
   ],
   "source": [
    "metrics.accuracy_score(y_train_under, predictions_under) "
   ]
  },
  {
   "cell_type": "code",
   "execution_count": null,
   "id": "d6dfb543-0a9e-4085-8772-4752c6f2778e",
   "metadata": {
    "tags": []
   },
   "outputs": [],
   "source": []
  },
  {
   "cell_type": "code",
   "execution_count": null,
   "id": "fb4b622e-e118-48e2-9319-dea980f579c6",
   "metadata": {},
   "outputs": [],
   "source": []
  },
  {
   "cell_type": "code",
   "execution_count": 111,
   "id": "383ef963-2e7c-47f6-94ef-70f8e35c52f2",
   "metadata": {},
   "outputs": [],
   "source": [
    "predictions_test = best_forest.predict(data_test_under)"
   ]
  },
  {
   "cell_type": "code",
   "execution_count": 112,
   "id": "005ffd8c-4320-413f-a3ee-9b1b706c3767",
   "metadata": {},
   "outputs": [
    {
     "data": {
      "text/plain": [
       "0.758969341161122"
      ]
     },
     "execution_count": 112,
     "metadata": {},
     "output_type": "execute_result"
    }
   ],
   "source": [
    "metrics.accuracy_score(y_test, predictions_test) "
   ]
  },
  {
   "cell_type": "code",
   "execution_count": null,
   "id": "3ee60c11-b415-498d-804b-b2bcbde0fee9",
   "metadata": {},
   "outputs": [],
   "source": []
  }
 ],
 "metadata": {
  "kernelspec": {
   "display_name": "Python 3 (ipykernel)",
   "language": "python",
   "name": "python3"
  },
  "language_info": {
   "codemirror_mode": {
    "name": "ipython",
    "version": 3
   },
   "file_extension": ".py",
   "mimetype": "text/x-python",
   "name": "python",
   "nbconvert_exporter": "python",
   "pygments_lexer": "ipython3",
   "version": "3.9.13"
  }
 },
 "nbformat": 4,
 "nbformat_minor": 5
}
